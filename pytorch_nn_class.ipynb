{
  "nbformat": 4,
  "nbformat_minor": 0,
  "metadata": {
    "colab": {
      "name": "pytorch_nn.ipynb",
      "provenance": [],
      "collapsed_sections": [],
      "authorship_tag": "ABX9TyNLgCZD/Jt2Lx5jVb0Ex6MT",
      "include_colab_link": true
    },
    "kernelspec": {
      "name": "python3",
      "display_name": "Python 3"
    },
    "language_info": {
      "name": "python"
    }
  },
  "cells": [
    {
      "cell_type": "markdown",
      "metadata": {
        "id": "view-in-github",
        "colab_type": "text"
      },
      "source": [
        "<a href=\"https://colab.research.google.com/github/saykim/006958/blob/master/pytorch_nn_class.ipynb\" target=\"_parent\"><img src=\"https://colab.research.google.com/assets/colab-badge.svg\" alt=\"Open In Colab\"/></a>"
      ]
    },
    {
      "cell_type": "markdown",
      "metadata": {
        "id": "ZbgJTERyG_K6"
      },
      "source": [
        "## nn.Module로 구현하는 선형회귀"
      ]
    },
    {
      "cell_type": "code",
      "metadata": {
        "id": "ilNpDJe8AlFI"
      },
      "source": [
        "import torch\n",
        "import torch.nn as nn\n",
        "import torch.nn.functional as F\n",
        "import torch.optim as optim\n",
        "\n",
        "from sklearn import datasets\n",
        "from sklearn.preprocessing import StandardScaler\n",
        "from sklearn.model_selection import train_test_split\n",
        "\n",
        "import numpy as np\n"
      ],
      "execution_count": 13,
      "outputs": []
    },
    {
      "cell_type": "code",
      "metadata": {
        "id": "zIoAXNDIAwZA"
      },
      "source": [
        "boston = datasets.load_boston()"
      ],
      "execution_count": 8,
      "outputs": []
    },
    {
      "cell_type": "code",
      "metadata": {
        "colab": {
          "base_uri": "https://localhost:8080/"
        },
        "id": "YA11zaWoBWcE",
        "outputId": "1d3ac4cb-ee93-49bd-c400-f7ef02f58f76"
      },
      "source": [
        "boston.keys()"
      ],
      "execution_count": 9,
      "outputs": [
        {
          "output_type": "execute_result",
          "data": {
            "text/plain": [
              "dict_keys(['data', 'target', 'feature_names', 'DESCR', 'filename'])"
            ]
          },
          "metadata": {
            "tags": []
          },
          "execution_count": 9
        }
      ]
    },
    {
      "cell_type": "code",
      "metadata": {
        "id": "VgQPC4ngBhBO"
      },
      "source": [
        "x = boston['data']\n",
        "y = boston['target']"
      ],
      "execution_count": 10,
      "outputs": []
    },
    {
      "cell_type": "code",
      "metadata": {
        "colab": {
          "base_uri": "https://localhost:8080/"
        },
        "id": "qLwh5080BrXB",
        "outputId": "d3fc1381-ce3e-4c2a-e501-8d8c83033fee"
      },
      "source": [
        "x.shape"
      ],
      "execution_count": 11,
      "outputs": [
        {
          "output_type": "execute_result",
          "data": {
            "text/plain": [
              "(506, 13)"
            ]
          },
          "metadata": {
            "tags": []
          },
          "execution_count": 11
        }
      ]
    },
    {
      "cell_type": "code",
      "metadata": {
        "colab": {
          "base_uri": "https://localhost:8080/"
        },
        "id": "mVUWyAK4Bsly",
        "outputId": "027bb238-f938-4bfb-92f0-d1d632724698"
      },
      "source": [
        "torch.manual_seed(1)"
      ],
      "execution_count": 12,
      "outputs": [
        {
          "output_type": "execute_result",
          "data": {
            "text/plain": [
              "<torch._C.Generator at 0x7f4baea77d70>"
            ]
          },
          "metadata": {
            "tags": []
          },
          "execution_count": 12
        }
      ]
    },
    {
      "cell_type": "code",
      "metadata": {
        "id": "Dk-LAo7CBy0O"
      },
      "source": [
        "x_train, x_test, y_train, y_test = train_test_split(x, y, random_state=42, test_size = .2)"
      ],
      "execution_count": 16,
      "outputs": []
    },
    {
      "cell_type": "code",
      "metadata": {
        "id": "IT-XGMxNCNZg"
      },
      "source": [
        "scaler = StandardScaler()"
      ],
      "execution_count": 17,
      "outputs": []
    },
    {
      "cell_type": "code",
      "metadata": {
        "id": "b7XyGCVXCrTE"
      },
      "source": [
        "x_train = scaler.fit_transform(x_train)\n",
        "x_test = scaler.transform(x_test)"
      ],
      "execution_count": 18,
      "outputs": []
    },
    {
      "cell_type": "code",
      "metadata": {
        "id": "clOVZLxrCw97"
      },
      "source": [
        "x_train = torch.FloatTensor(x_train)\n",
        "y_train = torch.FloatTensor(y_train)\n",
        "\n",
        "x_test = torch.FloatTensor(x_test)\n",
        "y_test = torch.FloatTensor(y_test)"
      ],
      "execution_count": 19,
      "outputs": []
    },
    {
      "cell_type": "code",
      "metadata": {
        "colab": {
          "base_uri": "https://localhost:8080/"
        },
        "id": "8lILMwZHE4Hv",
        "outputId": "b658b75f-2ea3-4c7b-f832-31c2317e0858"
      },
      "source": [
        "x_train.shape"
      ],
      "execution_count": 22,
      "outputs": [
        {
          "output_type": "execute_result",
          "data": {
            "text/plain": [
              "torch.Size([404, 13])"
            ]
          },
          "metadata": {
            "tags": []
          },
          "execution_count": 22
        }
      ]
    },
    {
      "cell_type": "code",
      "metadata": {
        "id": "LvCCbTb7E6X2"
      },
      "source": [
        ""
      ],
      "execution_count": null,
      "outputs": []
    },
    {
      "cell_type": "code",
      "metadata": {
        "id": "8ucuIqJOC-Li"
      },
      "source": [
        "#model\n",
        "model = nn.Linear(13,1)"
      ],
      "execution_count": 45,
      "outputs": []
    },
    {
      "cell_type": "code",
      "metadata": {
        "colab": {
          "base_uri": "https://localhost:8080/"
        },
        "id": "2M4out6yGbQP",
        "outputId": "e08d9e50-5592-4df3-d5d9-e0ce7ca4ebac"
      },
      "source": [
        "print(list(model.parameters()))"
      ],
      "execution_count": 46,
      "outputs": [
        {
          "output_type": "stream",
          "text": [
            "[Parameter containing:\n",
            "tensor([[ 0.2080,  0.0033, -0.1461,  0.1426, -0.1472,  0.0816, -0.0801, -0.0304,\n",
            "         -0.2666, -0.1322,  0.1505, -0.0674,  0.2763]], requires_grad=True), Parameter containing:\n",
            "tensor([0.2223], requires_grad=True)]\n"
          ],
          "name": "stdout"
        }
      ]
    },
    {
      "cell_type": "code",
      "metadata": {
        "id": "v2zM6u7mFBuq"
      },
      "source": [
        "optimizer = torch.optim.SGD(model.parameters(), lr=0.01)"
      ],
      "execution_count": 47,
      "outputs": []
    },
    {
      "cell_type": "code",
      "metadata": {
        "colab": {
          "base_uri": "https://localhost:8080/"
        },
        "id": "U93-V56FFIuz",
        "outputId": "b4d17033-6c5f-4aab-a7e0-cdc19eb8a0cc"
      },
      "source": [
        "n_epochs =1000\n",
        "\n",
        "for epoch in range(n_epochs+1):\n",
        "    pred = model(x_train)\n",
        "    cost = F.mse_loss(pred, y_train)\n",
        "\n",
        "    optimizer.zero_grad()\n",
        "    cost.backward()\n",
        "    optimizer.step()\n",
        "\n",
        "    if epoch % 100 == 0:\n",
        "        print('epoch {:.4f}/{}, Cost {:.6f}'.format(epoch, n_epochs, cost.item()))"
      ],
      "execution_count": 48,
      "outputs": [
        {
          "output_type": "stream",
          "text": [
            "/usr/local/lib/python3.7/dist-packages/ipykernel_launcher.py:5: UserWarning: Using a target size (torch.Size([404])) that is different to the input size (torch.Size([404, 1])). This will likely lead to incorrect results due to broadcasting. Please ensure they have the same size.\n",
            "  \"\"\"\n"
          ],
          "name": "stderr"
        },
        {
          "output_type": "stream",
          "text": [
            "epoch 0.0000/1000, Cost 596.641479\n",
            "epoch 100.0000/1000, Cost 95.856911\n",
            "epoch 200.0000/1000, Cost 87.036545\n",
            "epoch 300.0000/1000, Cost 86.878334\n",
            "epoch 400.0000/1000, Cost 86.874519\n",
            "epoch 500.0000/1000, Cost 86.874016\n",
            "epoch 600.0000/1000, Cost 86.873787\n",
            "epoch 700.0000/1000, Cost 86.873657\n",
            "epoch 800.0000/1000, Cost 86.873581\n",
            "epoch 900.0000/1000, Cost 86.873535\n",
            "epoch 1000.0000/1000, Cost 86.873505\n"
          ],
          "name": "stdout"
        }
      ]
    },
    {
      "cell_type": "code",
      "metadata": {
        "colab": {
          "base_uri": "https://localhost:8080/"
        },
        "id": "kUZxkP2_Fnpm",
        "outputId": "d53b3cb8-a5ee-48e3-e322-3d5f67c64fb3"
      },
      "source": [
        "cost.squeeze().detach()"
      ],
      "execution_count": 35,
      "outputs": [
        {
          "output_type": "execute_result",
          "data": {
            "text/plain": [
              "tensor(86.8734)"
            ]
          },
          "metadata": {
            "tags": []
          },
          "execution_count": 35
        }
      ]
    },
    {
      "cell_type": "code",
      "metadata": {
        "colab": {
          "base_uri": "https://localhost:8080/"
        },
        "id": "ZBHwrp15F1PW",
        "outputId": "90e57b11-e5cb-48f3-890d-970dc5823173"
      },
      "source": [
        "cost.item()"
      ],
      "execution_count": 32,
      "outputs": [
        {
          "output_type": "execute_result",
          "data": {
            "text/plain": [
              "86.87342834472656"
            ]
          },
          "metadata": {
            "tags": []
          },
          "execution_count": 32
        }
      ]
    },
    {
      "cell_type": "code",
      "metadata": {
        "colab": {
          "base_uri": "https://localhost:8080/"
        },
        "id": "RhL33_YdF2tj",
        "outputId": "5ba62e77-ee82-49d3-f427-d4b92c1c3696"
      },
      "source": [
        "model"
      ],
      "execution_count": 33,
      "outputs": [
        {
          "output_type": "execute_result",
          "data": {
            "text/plain": [
              "Linear(in_features=13, out_features=1, bias=True)"
            ]
          },
          "metadata": {
            "tags": []
          },
          "execution_count": 33
        }
      ]
    },
    {
      "cell_type": "code",
      "metadata": {
        "colab": {
          "base_uri": "https://localhost:8080/"
        },
        "id": "Vh34JWpgF35P",
        "outputId": "9dc65b93-66d9-40a7-8271-38114b1ba3ca"
      },
      "source": [
        "pred.squeeze()"
      ],
      "execution_count": 36,
      "outputs": [
        {
          "output_type": "execute_result",
          "data": {
            "text/plain": [
              "tensor([22.7943, 22.7981, 22.7937, 22.7958, 22.7975, 22.8017, 22.8042, 22.7945,\n",
              "        22.7991, 22.7942, 22.8033, 22.8011, 22.7963, 22.7969, 22.7997, 22.7953,\n",
              "        22.7973, 22.7987, 22.7901, 22.7985, 22.7929, 22.7878, 22.8008, 22.7980,\n",
              "        22.7976, 22.7975, 22.7994, 22.7980, 22.8094, 22.7857, 22.7939, 22.7876,\n",
              "        22.8025, 22.7945, 22.8052, 22.8020, 22.7975, 22.7949, 22.7964, 22.7929,\n",
              "        22.7964, 22.7937, 22.7987, 22.7996, 22.7986, 22.7999, 22.7950, 22.7976,\n",
              "        22.7985, 22.7991, 22.7951, 22.7895, 22.7983, 22.8012, 22.7950, 22.7999,\n",
              "        22.7969, 22.7954, 22.8002, 22.7984, 22.7959, 22.7979, 22.8025, 22.7959,\n",
              "        22.8008, 22.7944, 22.7947, 22.7903, 22.7749, 22.7911, 22.8000, 22.7893,\n",
              "        22.7951, 22.7898, 22.7883, 22.7984, 22.7901, 22.8014, 22.8022, 22.7986,\n",
              "        22.7986, 22.7983, 22.8015, 22.7940, 22.7980, 22.7963, 22.7921, 22.7919,\n",
              "        22.8006, 22.7895, 22.7953, 22.7974, 22.7983, 22.7990, 22.7978, 22.7920,\n",
              "        22.7978, 22.8022, 22.8023, 22.7981, 22.7949, 22.8087, 22.7968, 22.7940,\n",
              "        22.7890, 22.7887, 22.7943, 22.7963, 22.7942, 22.7988, 22.7988, 22.7990,\n",
              "        22.7902, 22.7993, 22.7991, 22.7950, 22.7985, 22.7968, 22.8041, 22.8005,\n",
              "        22.7965, 22.7976, 22.7954, 22.7985, 22.7911, 22.7949, 22.7920, 22.7900,\n",
              "        22.7984, 22.7981, 22.8006, 22.7887, 22.7941, 22.8019, 22.7930, 22.7991,\n",
              "        22.7987, 22.7904, 22.7885, 22.8006, 22.7931, 22.7978, 22.7974, 22.7971,\n",
              "        22.7905, 22.7986, 22.7919, 22.7943, 22.8018, 22.7964, 22.7908, 22.7941,\n",
              "        22.7949, 22.7920, 22.7910, 22.7984, 22.7996, 22.7988, 22.8024, 22.7993,\n",
              "        22.8001, 22.8091, 22.7750, 22.7912, 22.8019, 22.7960, 22.8021, 22.7912,\n",
              "        22.8043, 22.8083, 22.7965, 22.7960, 22.7952, 22.7977, 22.7967, 22.7988,\n",
              "        22.7892, 22.8021, 22.7997, 22.8085, 22.8070, 22.7959, 22.7942, 22.7944,\n",
              "        22.7944, 22.7947, 22.8090, 22.7937, 22.7950, 22.7931, 22.7985, 22.7915,\n",
              "        22.7935, 22.7924, 22.8020, 22.7878, 22.8014, 22.8004, 22.7786, 22.8032,\n",
              "        22.7965, 22.7981, 22.7979, 22.7945, 22.7896, 22.7946, 22.7912, 22.7993,\n",
              "        22.7972, 22.7880, 22.8103, 22.7877, 22.7976, 22.7950, 22.8026, 22.7943,\n",
              "        22.7912, 22.7975, 22.7928, 22.7981, 22.7984, 22.7934, 22.7911, 22.7972,\n",
              "        22.8009, 22.7976, 22.8027, 22.7956, 22.7942, 22.8024, 22.7967, 22.7994,\n",
              "        22.7970, 22.7975, 22.7948, 22.7895, 22.7999, 22.7982, 22.7904, 22.7947,\n",
              "        22.7922, 22.7945, 22.7954, 22.7990, 22.7983, 22.7940, 22.8017, 22.7999,\n",
              "        22.7997, 22.7983, 22.7969, 22.7921, 22.7988, 22.7964, 22.8036, 22.7988,\n",
              "        22.7927, 22.7959, 22.7937, 22.8010, 22.7960, 22.7889, 22.7956, 22.8092,\n",
              "        22.7996, 22.7959, 22.7931, 22.7983, 22.8011, 22.7990, 22.7946, 22.7985,\n",
              "        22.7955, 22.7980, 22.7970, 22.8016, 22.7968, 22.7875, 22.7975, 22.7950,\n",
              "        22.7979, 22.7943, 22.7944, 22.7918, 22.7909, 22.8000, 22.7963, 22.7937,\n",
              "        22.7903, 22.7952, 22.7994, 22.8071, 22.7974, 22.8002, 22.7948, 22.7992,\n",
              "        22.8018, 22.8003, 22.7986, 22.8018, 22.7938, 22.7965, 22.7971, 22.7945,\n",
              "        22.7990, 22.7985, 22.7992, 22.7985, 22.7991, 22.7887, 22.7993, 22.7924,\n",
              "        22.7902, 22.8012, 22.7975, 22.7981, 22.7908, 22.7959, 22.7986, 22.7915,\n",
              "        22.7994, 22.7977, 22.7926, 22.7995, 22.7743, 22.7948, 22.8017, 22.7986,\n",
              "        22.8020, 22.7956, 22.7939, 22.8004, 22.7964, 22.7976, 22.7928, 22.8043,\n",
              "        22.7947, 22.7995, 22.7853, 22.8003, 22.7934, 22.7973, 22.7949, 22.7911,\n",
              "        22.7999, 22.8007, 22.7902, 22.7846, 22.7964, 22.7931, 22.8060, 22.7936,\n",
              "        22.7978, 22.7988, 22.7884, 22.7988, 22.7972, 22.7988, 22.7944, 22.7999,\n",
              "        22.7909, 22.8000, 22.7977, 22.7912, 22.7896, 22.8018, 22.7931, 22.7972,\n",
              "        22.7979, 22.7978, 22.7955, 22.7949, 22.7988, 22.7873, 22.7997, 22.7995,\n",
              "        22.7894, 22.7993, 22.7963, 22.7918, 22.7947, 22.8020, 22.7947, 22.8016,\n",
              "        22.7936, 22.7993, 22.8013, 22.7925, 22.7944, 22.7960, 22.7988, 22.7833,\n",
              "        22.8065, 22.7956, 22.8087, 22.7990, 22.7954, 22.7913, 22.7968, 22.7924,\n",
              "        22.8031, 22.8011, 22.8000, 22.7909], grad_fn=<SqueezeBackward0>)"
            ]
          },
          "metadata": {
            "tags": []
          },
          "execution_count": 36
        }
      ]
    },
    {
      "cell_type": "markdown",
      "metadata": {
        "id": "obhXBOO7F7VI"
      },
      "source": [
        "## class 로 파이토치 모델 구현"
      ]
    },
    {
      "cell_type": "code",
      "metadata": {
        "id": "VR9-hZZ_G9WL"
      },
      "source": [
        "import torch\n",
        "import torch.nn as nn\n",
        "import torch.nn.functional as F\n",
        "import torch.optim as optim\n",
        "\n",
        "from sklearn import datasets\n",
        "from sklearn.preprocessing import StandardScaler\n",
        "from sklearn.model_selection import train_test_split\n",
        "\n",
        "import numpy as np\n"
      ],
      "execution_count": 49,
      "outputs": []
    },
    {
      "cell_type": "markdown",
      "metadata": {
        "id": "l0NIZ3XVHHG7"
      },
      "source": [
        "### 데이터 불러오기"
      ]
    },
    {
      "cell_type": "code",
      "metadata": {
        "id": "DqISyNJpHMtE"
      },
      "source": [
        "boston = datasets.load_boston() #scikit learn 모델 불러오기\n",
        "\n",
        "x = boston['data']\n",
        "y = boston['target']\n",
        "\n",
        "x_train, x_test, y_train, y_test = train_test_split(x, y, random_state=42, test_size = .2) #train/test 분리\n",
        "\n",
        "scaler = StandardScaler() #scaler\n",
        "\n",
        "x_train = scaler.fit_transform(x_train) # 데이터 scaler 로 변환\n",
        "x_test = scaler.transform(x_test)\n",
        "\n",
        "\n",
        "x_train = torch.FloatTensor(x_train) #torch로 변환\n",
        "y_train = torch.FloatTensor(y_train)\n",
        "\n",
        "x_test = torch.FloatTensor(x_test)\n",
        "y_test = torch.FloatTensor(y_test)\n"
      ],
      "execution_count": 50,
      "outputs": []
    },
    {
      "cell_type": "code",
      "metadata": {
        "colab": {
          "base_uri": "https://localhost:8080/"
        },
        "id": "xbRIywEiIyAr",
        "outputId": "57978b79-4335-4a26-a144-12edb167126e"
      },
      "source": [
        "x_train.size()"
      ],
      "execution_count": 52,
      "outputs": [
        {
          "output_type": "execute_result",
          "data": {
            "text/plain": [
              "torch.Size([404, 13])"
            ]
          },
          "metadata": {
            "tags": []
          },
          "execution_count": 52
        }
      ]
    },
    {
      "cell_type": "code",
      "metadata": {
        "id": "GBmuks8cI1rx"
      },
      "source": [
        "model = nn.Linear(13,1) #(input_dim, outout_dim) "
      ],
      "execution_count": 74,
      "outputs": []
    },
    {
      "cell_type": "markdown",
      "metadata": {
        "id": "1X7GEsmwKC_R"
      },
      "source": [
        "> 모델 선언 및 초기화는 위에 처럼 모델을 만들었지만, 클래스를 이요하여 아래처럼 만든다"
      ]
    },
    {
      "cell_type": "code",
      "metadata": {
        "id": "4skvUQDMI51D"
      },
      "source": [
        "class LinearRegressionModel(nn.Module): #torch.nn.Module을 상속받는 파이썬 클래스\n",
        "    def __init__(self):\n",
        "        super().__init__()\n",
        "        self.linear = nn.Linear(13,1)\n",
        "\n",
        "    def forward(self,x):\n",
        "        return self.linear(x) \n"
      ],
      "execution_count": 75,
      "outputs": []
    },
    {
      "cell_type": "code",
      "metadata": {
        "id": "deTlKVoSKRyp"
      },
      "source": [
        "model = LinearRegressionModel()\n",
        "optimizer = torch.optim.SGD(model.parameters(), lr=0.01)"
      ],
      "execution_count": 78,
      "outputs": []
    },
    {
      "cell_type": "code",
      "metadata": {
        "colab": {
          "base_uri": "https://localhost:8080/"
        },
        "id": "QLrdO_qyKVNk",
        "outputId": "e2212d7e-31fd-439c-ff85-1d8a4bb2c535"
      },
      "source": [
        "print(list(model.parameters()))"
      ],
      "execution_count": 79,
      "outputs": [
        {
          "output_type": "stream",
          "text": [
            "[Parameter containing:\n",
            "tensor([[-0.2210, -0.1264, -0.0849,  0.1186,  0.0507,  0.0685,  0.2768,  0.2703,\n",
            "          0.1892,  0.0088, -0.1919,  0.2168, -0.0694]], requires_grad=True), Parameter containing:\n",
            "tensor([-0.0224], requires_grad=True)]\n"
          ],
          "name": "stdout"
        }
      ]
    },
    {
      "cell_type": "code",
      "metadata": {
        "colab": {
          "base_uri": "https://localhost:8080/"
        },
        "id": "uSFHEJpoKeW_",
        "outputId": "d000e384-1449-4664-b241-f35da91d2119"
      },
      "source": [
        "n_epochs = 200\n",
        "\n",
        "for epoch in range(n_epochs+1):\n",
        "    pred = model(x_train)\n",
        "    cost = F.mse_loss(pred, y_train)\n",
        "\n",
        "    optimizer.zero_grad()\n",
        "    cost.backward()\n",
        "    optimizer.step()\n",
        "\n",
        "    if epoch % 50 ==0:\n",
        "        print('epcoch : {}/{}, cost : {:.2f}'.format(epoch, n_epochs, cost.item()))"
      ],
      "execution_count": 80,
      "outputs": [
        {
          "output_type": "stream",
          "text": [
            "epcoch : 0/200, cost : 607.79\n",
            "epcoch : 50/200, cost : 155.98\n",
            "epcoch : 100/200, cost : 96.06\n",
            "epcoch : 150/200, cost : 88.10\n",
            "epcoch : 200/200, cost : 87.04\n"
          ],
          "name": "stdout"
        },
        {
          "output_type": "stream",
          "text": [
            "/usr/local/lib/python3.7/dist-packages/ipykernel_launcher.py:5: UserWarning: Using a target size (torch.Size([404])) that is different to the input size (torch.Size([404, 1])). This will likely lead to incorrect results due to broadcasting. Please ensure they have the same size.\n",
            "  \"\"\"\n"
          ],
          "name": "stderr"
        }
      ]
    },
    {
      "cell_type": "code",
      "metadata": {
        "colab": {
          "base_uri": "https://localhost:8080/"
        },
        "id": "_fkrcqi3LG8m",
        "outputId": "7f79adde-ec4d-415b-9c2b-7b773fab3267"
      },
      "source": [
        "y_pred = model(x_test)\n",
        "y_pred.shape"
      ],
      "execution_count": 65,
      "outputs": [
        {
          "output_type": "execute_result",
          "data": {
            "text/plain": [
              "torch.Size([102, 1])"
            ]
          },
          "metadata": {
            "tags": []
          },
          "execution_count": 65
        }
      ]
    },
    {
      "cell_type": "code",
      "metadata": {
        "colab": {
          "base_uri": "https://localhost:8080/"
        },
        "id": "RiImPyuOLN6C",
        "outputId": "c28ab547-f46e-4762-d531-8be9f8082956"
      },
      "source": [
        "F.mse_loss(y_pred, y_test)"
      ],
      "execution_count": 63,
      "outputs": [
        {
          "output_type": "stream",
          "text": [
            "/usr/local/lib/python3.7/dist-packages/ipykernel_launcher.py:1: UserWarning: Using a target size (torch.Size([102])) that is different to the input size (torch.Size([102, 1])). This will likely lead to incorrect results due to broadcasting. Please ensure they have the same size.\n",
            "  \"\"\"Entry point for launching an IPython kernel.\n"
          ],
          "name": "stderr"
        },
        {
          "output_type": "execute_result",
          "data": {
            "text/plain": [
              "tensor(75.0456, grad_fn=<MseLossBackward>)"
            ]
          },
          "metadata": {
            "tags": []
          },
          "execution_count": 63
        }
      ]
    },
    {
      "cell_type": "code",
      "metadata": {
        "colab": {
          "base_uri": "https://localhost:8080/"
        },
        "id": "9d1VXh1qLUI7",
        "outputId": "72eae833-b870-4055-be8f-3fe624379540"
      },
      "source": [
        "y_test.shape"
      ],
      "execution_count": 66,
      "outputs": [
        {
          "output_type": "execute_result",
          "data": {
            "text/plain": [
              "torch.Size([102])"
            ]
          },
          "metadata": {
            "tags": []
          },
          "execution_count": 66
        }
      ]
    },
    {
      "cell_type": "code",
      "metadata": {
        "id": "uDmvc9qZLcZA"
      },
      "source": [
        ""
      ],
      "execution_count": null,
      "outputs": []
    }
  ]
}