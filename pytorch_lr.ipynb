{
  "nbformat": 4,
  "nbformat_minor": 0,
  "metadata": {
    "colab": {
      "name": " pytorch_lr.ipynb",
      "provenance": [],
      "authorship_tag": "ABX9TyPC19V8dtBtuIZHDwdloJMI",
      "include_colab_link": true
    },
    "kernelspec": {
      "name": "python3",
      "display_name": "Python 3"
    },
    "language_info": {
      "name": "python"
    }
  },
  "cells": [
    {
      "cell_type": "markdown",
      "metadata": {
        "id": "view-in-github",
        "colab_type": "text"
      },
      "source": [
        "<a href=\"https://colab.research.google.com/github/saykim/006958/blob/master/pytorch_lr.ipynb\" target=\"_parent\"><img src=\"https://colab.research.google.com/assets/colab-badge.svg\" alt=\"Open In Colab\"/></a>"
      ]
    },
    {
      "cell_type": "markdown",
      "metadata": {
        "id": "7YC3_h6xbJ-a"
      },
      "source": [
        "https://www.youtube.com/watch?v=c36lUUr864M\n"
      ]
    },
    {
      "cell_type": "code",
      "metadata": {
        "id": "6bwD9bJTbPRN"
      },
      "source": [
        "import torch\n",
        "import torch.nn as nn\n",
        "import numpy as np\n",
        "\n",
        "from sklearn import datasets\n",
        "\n",
        "import matplotlib.pyplot as plt\n"
      ],
      "execution_count": 2,
      "outputs": []
    },
    {
      "cell_type": "code",
      "metadata": {
        "id": "dbEczhRcbYSu"
      },
      "source": [
        "# 1) model\n",
        "# 2) loss and optimizer\n",
        "# 3) training loop "
      ],
      "execution_count": null,
      "outputs": []
    },
    {
      "cell_type": "code",
      "metadata": {
        "id": "Aj8YvdgZbmTU"
      },
      "source": [
        "X_numpy, y_numpy = datasets.make_regression(n_samples=1000, n_features=1, noise=20, random_state=1)"
      ],
      "execution_count": 35,
      "outputs": []
    },
    {
      "cell_type": "code",
      "metadata": {
        "id": "ZGzztg3Bbydi"
      },
      "source": [
        "X = torch.from_numpy(X_numpy.astype(np.float32))\n",
        "y = torch.from_numpy(y_numpy.astype(np.float32))"
      ],
      "execution_count": 36,
      "outputs": []
    },
    {
      "cell_type": "code",
      "metadata": {
        "colab": {
          "base_uri": "https://localhost:8080/"
        },
        "id": "hNNSZA2-b_he",
        "outputId": "d9ee5041-8afd-41e8-a677-ffd97e89e59e"
      },
      "source": [
        "y.size()"
      ],
      "execution_count": 37,
      "outputs": [
        {
          "output_type": "execute_result",
          "data": {
            "text/plain": [
              "torch.Size([1000])"
            ]
          },
          "metadata": {
            "tags": []
          },
          "execution_count": 37
        }
      ]
    },
    {
      "cell_type": "code",
      "metadata": {
        "colab": {
          "base_uri": "https://localhost:8080/"
        },
        "id": "SBiJfvaDcDtp",
        "outputId": "14381ad3-b909-45ea-8740-a6d501fd0549"
      },
      "source": [
        "X.size()"
      ],
      "execution_count": 38,
      "outputs": [
        {
          "output_type": "execute_result",
          "data": {
            "text/plain": [
              "torch.Size([1000, 1])"
            ]
          },
          "metadata": {
            "tags": []
          },
          "execution_count": 38
        }
      ]
    },
    {
      "cell_type": "code",
      "metadata": {
        "id": "sfc4ozK6cFgQ"
      },
      "source": [
        "y = y.view(y.shape[0], 1)"
      ],
      "execution_count": 39,
      "outputs": []
    },
    {
      "cell_type": "code",
      "metadata": {
        "id": "fZUc4f8McT_b"
      },
      "source": [
        "n_sample, n_features = X.shape"
      ],
      "execution_count": 40,
      "outputs": []
    },
    {
      "cell_type": "code",
      "metadata": {
        "id": "ayZnLjRdclvM"
      },
      "source": [
        "# 1) model"
      ],
      "execution_count": 41,
      "outputs": []
    },
    {
      "cell_type": "code",
      "metadata": {
        "id": "O6vAWclOcpSf"
      },
      "source": [
        "input_size = n_features\n",
        "output_size = 1\n",
        "model = nn.Linear(input_size, output_size)"
      ],
      "execution_count": 42,
      "outputs": []
    },
    {
      "cell_type": "code",
      "metadata": {
        "id": "CNQ06znLc4jX"
      },
      "source": [
        "# 2) loss and optimizer"
      ],
      "execution_count": 43,
      "outputs": []
    },
    {
      "cell_type": "code",
      "metadata": {
        "id": "VtIPAINyc6W6"
      },
      "source": [
        "lr = 0.1\n",
        "criterion = nn.MSELoss()\n",
        "optimizer = torch.optim.SGD(model.parameters(), lr=lr)"
      ],
      "execution_count": 44,
      "outputs": []
    },
    {
      "cell_type": "code",
      "metadata": {
        "id": "5_VNw19ZdP35"
      },
      "source": [
        "# 3) training loop "
      ],
      "execution_count": 45,
      "outputs": []
    },
    {
      "cell_type": "code",
      "metadata": {
        "colab": {
          "base_uri": "https://localhost:8080/"
        },
        "id": "IVSaCc2HdRpi",
        "outputId": "a2d0dff1-0e31-4ea7-98bb-358476c7c7d6"
      },
      "source": [
        "num_epochs = 10000\n",
        "\n",
        "for epoch in range(num_epochs+1):\n",
        "    y_pred = model(X)\n",
        "    loss = criterion(y_pred, y)\n",
        "\n",
        "    loss.backward()\n",
        "\n",
        "    optimizer.step()\n",
        "    optimizer.zero_grad() #never forget!\n",
        "\n",
        "    if epoch % 50 == 0 :\n",
        "        print('epoch: {} | loss = {:.4f}'.format(epoch, loss.item()))\n",
        "\n"
      ],
      "execution_count": 46,
      "outputs": [
        {
          "output_type": "stream",
          "text": [
            "epoch: 0 | loss = 1829.5834\n",
            "epoch: 50 | loss = 401.5862\n",
            "epoch: 100 | loss = 401.5862\n",
            "epoch: 150 | loss = 401.5862\n",
            "epoch: 200 | loss = 401.5862\n",
            "epoch: 250 | loss = 401.5862\n",
            "epoch: 300 | loss = 401.5862\n",
            "epoch: 350 | loss = 401.5862\n",
            "epoch: 400 | loss = 401.5862\n",
            "epoch: 450 | loss = 401.5862\n",
            "epoch: 500 | loss = 401.5862\n",
            "epoch: 550 | loss = 401.5862\n",
            "epoch: 600 | loss = 401.5862\n",
            "epoch: 650 | loss = 401.5862\n",
            "epoch: 700 | loss = 401.5862\n",
            "epoch: 750 | loss = 401.5862\n",
            "epoch: 800 | loss = 401.5862\n",
            "epoch: 850 | loss = 401.5862\n",
            "epoch: 900 | loss = 401.5862\n",
            "epoch: 950 | loss = 401.5862\n",
            "epoch: 1000 | loss = 401.5862\n",
            "epoch: 1050 | loss = 401.5862\n",
            "epoch: 1100 | loss = 401.5862\n",
            "epoch: 1150 | loss = 401.5862\n",
            "epoch: 1200 | loss = 401.5862\n",
            "epoch: 1250 | loss = 401.5862\n",
            "epoch: 1300 | loss = 401.5862\n",
            "epoch: 1350 | loss = 401.5862\n",
            "epoch: 1400 | loss = 401.5862\n",
            "epoch: 1450 | loss = 401.5862\n",
            "epoch: 1500 | loss = 401.5862\n",
            "epoch: 1550 | loss = 401.5862\n",
            "epoch: 1600 | loss = 401.5862\n",
            "epoch: 1650 | loss = 401.5862\n",
            "epoch: 1700 | loss = 401.5862\n",
            "epoch: 1750 | loss = 401.5862\n",
            "epoch: 1800 | loss = 401.5862\n",
            "epoch: 1850 | loss = 401.5862\n",
            "epoch: 1900 | loss = 401.5862\n",
            "epoch: 1950 | loss = 401.5862\n",
            "epoch: 2000 | loss = 401.5862\n",
            "epoch: 2050 | loss = 401.5862\n",
            "epoch: 2100 | loss = 401.5862\n",
            "epoch: 2150 | loss = 401.5862\n",
            "epoch: 2200 | loss = 401.5862\n",
            "epoch: 2250 | loss = 401.5862\n",
            "epoch: 2300 | loss = 401.5862\n",
            "epoch: 2350 | loss = 401.5862\n",
            "epoch: 2400 | loss = 401.5862\n",
            "epoch: 2450 | loss = 401.5862\n",
            "epoch: 2500 | loss = 401.5862\n",
            "epoch: 2550 | loss = 401.5862\n",
            "epoch: 2600 | loss = 401.5862\n",
            "epoch: 2650 | loss = 401.5862\n",
            "epoch: 2700 | loss = 401.5862\n",
            "epoch: 2750 | loss = 401.5862\n",
            "epoch: 2800 | loss = 401.5862\n",
            "epoch: 2850 | loss = 401.5862\n",
            "epoch: 2900 | loss = 401.5862\n",
            "epoch: 2950 | loss = 401.5862\n",
            "epoch: 3000 | loss = 401.5862\n",
            "epoch: 3050 | loss = 401.5862\n",
            "epoch: 3100 | loss = 401.5862\n",
            "epoch: 3150 | loss = 401.5862\n",
            "epoch: 3200 | loss = 401.5862\n",
            "epoch: 3250 | loss = 401.5862\n",
            "epoch: 3300 | loss = 401.5862\n",
            "epoch: 3350 | loss = 401.5862\n",
            "epoch: 3400 | loss = 401.5862\n",
            "epoch: 3450 | loss = 401.5862\n",
            "epoch: 3500 | loss = 401.5862\n",
            "epoch: 3550 | loss = 401.5862\n",
            "epoch: 3600 | loss = 401.5862\n",
            "epoch: 3650 | loss = 401.5862\n",
            "epoch: 3700 | loss = 401.5862\n",
            "epoch: 3750 | loss = 401.5862\n",
            "epoch: 3800 | loss = 401.5862\n",
            "epoch: 3850 | loss = 401.5862\n",
            "epoch: 3900 | loss = 401.5862\n",
            "epoch: 3950 | loss = 401.5862\n",
            "epoch: 4000 | loss = 401.5862\n",
            "epoch: 4050 | loss = 401.5862\n",
            "epoch: 4100 | loss = 401.5862\n",
            "epoch: 4150 | loss = 401.5862\n",
            "epoch: 4200 | loss = 401.5862\n",
            "epoch: 4250 | loss = 401.5862\n",
            "epoch: 4300 | loss = 401.5862\n",
            "epoch: 4350 | loss = 401.5862\n",
            "epoch: 4400 | loss = 401.5862\n",
            "epoch: 4450 | loss = 401.5862\n",
            "epoch: 4500 | loss = 401.5862\n",
            "epoch: 4550 | loss = 401.5862\n",
            "epoch: 4600 | loss = 401.5862\n",
            "epoch: 4650 | loss = 401.5862\n",
            "epoch: 4700 | loss = 401.5862\n",
            "epoch: 4750 | loss = 401.5862\n",
            "epoch: 4800 | loss = 401.5862\n",
            "epoch: 4850 | loss = 401.5862\n",
            "epoch: 4900 | loss = 401.5862\n",
            "epoch: 4950 | loss = 401.5862\n",
            "epoch: 5000 | loss = 401.5862\n",
            "epoch: 5050 | loss = 401.5862\n",
            "epoch: 5100 | loss = 401.5862\n",
            "epoch: 5150 | loss = 401.5862\n",
            "epoch: 5200 | loss = 401.5862\n",
            "epoch: 5250 | loss = 401.5862\n",
            "epoch: 5300 | loss = 401.5862\n",
            "epoch: 5350 | loss = 401.5862\n",
            "epoch: 5400 | loss = 401.5862\n",
            "epoch: 5450 | loss = 401.5862\n",
            "epoch: 5500 | loss = 401.5862\n",
            "epoch: 5550 | loss = 401.5862\n",
            "epoch: 5600 | loss = 401.5862\n",
            "epoch: 5650 | loss = 401.5862\n",
            "epoch: 5700 | loss = 401.5862\n",
            "epoch: 5750 | loss = 401.5862\n",
            "epoch: 5800 | loss = 401.5862\n",
            "epoch: 5850 | loss = 401.5862\n",
            "epoch: 5900 | loss = 401.5862\n",
            "epoch: 5950 | loss = 401.5862\n",
            "epoch: 6000 | loss = 401.5862\n",
            "epoch: 6050 | loss = 401.5862\n",
            "epoch: 6100 | loss = 401.5862\n",
            "epoch: 6150 | loss = 401.5862\n",
            "epoch: 6200 | loss = 401.5862\n",
            "epoch: 6250 | loss = 401.5862\n",
            "epoch: 6300 | loss = 401.5862\n",
            "epoch: 6350 | loss = 401.5862\n",
            "epoch: 6400 | loss = 401.5862\n",
            "epoch: 6450 | loss = 401.5862\n",
            "epoch: 6500 | loss = 401.5862\n",
            "epoch: 6550 | loss = 401.5862\n",
            "epoch: 6600 | loss = 401.5862\n",
            "epoch: 6650 | loss = 401.5862\n",
            "epoch: 6700 | loss = 401.5862\n",
            "epoch: 6750 | loss = 401.5862\n",
            "epoch: 6800 | loss = 401.5862\n",
            "epoch: 6850 | loss = 401.5862\n",
            "epoch: 6900 | loss = 401.5862\n",
            "epoch: 6950 | loss = 401.5862\n",
            "epoch: 7000 | loss = 401.5862\n",
            "epoch: 7050 | loss = 401.5862\n",
            "epoch: 7100 | loss = 401.5862\n",
            "epoch: 7150 | loss = 401.5862\n",
            "epoch: 7200 | loss = 401.5862\n",
            "epoch: 7250 | loss = 401.5862\n",
            "epoch: 7300 | loss = 401.5862\n",
            "epoch: 7350 | loss = 401.5862\n",
            "epoch: 7400 | loss = 401.5862\n",
            "epoch: 7450 | loss = 401.5862\n",
            "epoch: 7500 | loss = 401.5862\n",
            "epoch: 7550 | loss = 401.5862\n",
            "epoch: 7600 | loss = 401.5862\n",
            "epoch: 7650 | loss = 401.5862\n",
            "epoch: 7700 | loss = 401.5862\n",
            "epoch: 7750 | loss = 401.5862\n",
            "epoch: 7800 | loss = 401.5862\n",
            "epoch: 7850 | loss = 401.5862\n",
            "epoch: 7900 | loss = 401.5862\n",
            "epoch: 7950 | loss = 401.5862\n",
            "epoch: 8000 | loss = 401.5862\n",
            "epoch: 8050 | loss = 401.5862\n",
            "epoch: 8100 | loss = 401.5862\n",
            "epoch: 8150 | loss = 401.5862\n",
            "epoch: 8200 | loss = 401.5862\n",
            "epoch: 8250 | loss = 401.5862\n",
            "epoch: 8300 | loss = 401.5862\n",
            "epoch: 8350 | loss = 401.5862\n",
            "epoch: 8400 | loss = 401.5862\n",
            "epoch: 8450 | loss = 401.5862\n",
            "epoch: 8500 | loss = 401.5862\n",
            "epoch: 8550 | loss = 401.5862\n",
            "epoch: 8600 | loss = 401.5862\n",
            "epoch: 8650 | loss = 401.5862\n",
            "epoch: 8700 | loss = 401.5862\n",
            "epoch: 8750 | loss = 401.5862\n",
            "epoch: 8800 | loss = 401.5862\n",
            "epoch: 8850 | loss = 401.5862\n",
            "epoch: 8900 | loss = 401.5862\n",
            "epoch: 8950 | loss = 401.5862\n",
            "epoch: 9000 | loss = 401.5862\n",
            "epoch: 9050 | loss = 401.5862\n",
            "epoch: 9100 | loss = 401.5862\n",
            "epoch: 9150 | loss = 401.5862\n",
            "epoch: 9200 | loss = 401.5862\n",
            "epoch: 9250 | loss = 401.5862\n",
            "epoch: 9300 | loss = 401.5862\n",
            "epoch: 9350 | loss = 401.5862\n",
            "epoch: 9400 | loss = 401.5862\n",
            "epoch: 9450 | loss = 401.5862\n",
            "epoch: 9500 | loss = 401.5862\n",
            "epoch: 9550 | loss = 401.5862\n",
            "epoch: 9600 | loss = 401.5862\n",
            "epoch: 9650 | loss = 401.5862\n",
            "epoch: 9700 | loss = 401.5862\n",
            "epoch: 9750 | loss = 401.5862\n",
            "epoch: 9800 | loss = 401.5862\n",
            "epoch: 9850 | loss = 401.5862\n",
            "epoch: 9900 | loss = 401.5862\n",
            "epoch: 9950 | loss = 401.5862\n",
            "epoch: 10000 | loss = 401.5862\n"
          ],
          "name": "stdout"
        }
      ]
    },
    {
      "cell_type": "code",
      "metadata": {
        "colab": {
          "base_uri": "https://localhost:8080/",
          "height": 282
        },
        "id": "C31nLobFeHLF",
        "outputId": "510e41c9-b2f6-458d-bf4e-e9d7daf90214"
      },
      "source": [
        "pred = model(X).detach().numpy()\n",
        "plt.plot(X_numpy, y_numpy, 'ro')\n",
        "plt.plot(X_numpy, pred, 'b')\n"
      ],
      "execution_count": 47,
      "outputs": [
        {
          "output_type": "execute_result",
          "data": {
            "text/plain": [
              "[<matplotlib.lines.Line2D at 0x7f0f13dfd8d0>]"
            ]
          },
          "metadata": {
            "tags": []
          },
          "execution_count": 47
        },
        {
          "output_type": "display_data",
          "data": {
            "image/png": "[encoded data removed]",
            "text/plain": [
              "<Figure size 432x288 with 1 Axes>"
            ]
          },
          "metadata": {
            "tags": [],
            "needs_background": "light"
          }
        }
      ]
    },
    {
      "cell_type": "code",
      "metadata": {
        "id": "H8l7imHMexo3"
      },
      "source": [
        ""
      ],
      "execution_count": 47,
      "outputs": []
    }
  ]
}