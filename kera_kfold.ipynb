{
  "nbformat": 4,
  "nbformat_minor": 0,
  "metadata": {
    "colab": {
      "name": "kera_kfold.ipynb",
      "provenance": [],
      "authorship_tag": "ABX9TyObatLodV5klMq1FHaF6lAj",
      "include_colab_link": true
    },
    "kernelspec": {
      "name": "python3",
      "display_name": "Python 3"
    },
    "language_info": {
      "name": "python"
    }
  },
  "cells": [
    {
      "cell_type": "markdown",
      "metadata": {
        "id": "view-in-github",
        "colab_type": "text"
      },
      "source": [
        "<a href=\"https://colab.research.google.com/github/saykim/006958/blob/master/kera_kfold.ipynb\" target=\"_parent\"><img src=\"https://colab.research.google.com/assets/colab-badge.svg\" alt=\"Open In Colab\"/></a>"
      ]
    },
    {
      "cell_type": "code",
      "metadata": {
        "id": "w6LZ4R1o-OjJ"
      },
      "source": [
        "import numpy as np\n",
        "import pandas as pd\n",
        "import os\n",
        "from sklearn.model_selection import KFold, StratifiedKFold, train_test_split\n",
        "from sklearn.datasets import load_boston\n",
        "import tensorflow as tf\n",
        "from tensorflow.keras.preprocessing.image import ImageDataGenerator\n",
        "from sklearn.preprocessing import StandardScaler, RobustScaler, MinMaxScaler\n"
      ],
      "execution_count": 207,
      "outputs": []
    },
    {
      "cell_type": "code",
      "metadata": {
        "id": "M6lM-z3q-YCF"
      },
      "source": [
        "data = load_boston()"
      ],
      "execution_count": 208,
      "outputs": []
    },
    {
      "cell_type": "code",
      "metadata": {
        "id": "oZnC0AFD-1Nw"
      },
      "source": [
        "x_data = pd.DataFrame(data = data['data'], columns=data['feature_names'])\n",
        "y_data = pd.DataFrame(data['target'])"
      ],
      "execution_count": 209,
      "outputs": []
    },
    {
      "cell_type": "code",
      "metadata": {
        "colab": {
          "base_uri": "https://localhost:8080/",
          "height": 359
        },
        "id": "eQTxlLdRAWRk",
        "outputId": "472939a0-2ced-4618-a51a-85b0db263b5e"
      },
      "source": [
        "x_data.head(10)"
      ],
      "execution_count": 231,
      "outputs": [
        {
          "output_type": "execute_result",
          "data": {
            "text/html": [
              "<div>\n",
              "<style scoped>\n",
              "    .dataframe tbody tr th:only-of-type {\n",
              "        vertical-align: middle;\n",
              "    }\n",
              "\n",
              "    .dataframe tbody tr th {\n",
              "        vertical-align: top;\n",
              "    }\n",
              "\n",
              "    .dataframe thead th {\n",
              "        text-align: right;\n",
              "    }\n",
              "</style>\n",
              "<table border=\"1\" class=\"dataframe\">\n",
              "  <thead>\n",
              "    <tr style=\"text-align: right;\">\n",
              "      <th></th>\n",
              "      <th>CRIM</th>\n",
              "      <th>ZN</th>\n",
              "      <th>INDUS</th>\n",
              "      <th>CHAS</th>\n",
              "      <th>NOX</th>\n",
              "      <th>RM</th>\n",
              "      <th>AGE</th>\n",
              "      <th>DIS</th>\n",
              "      <th>RAD</th>\n",
              "      <th>TAX</th>\n",
              "      <th>PTRATIO</th>\n",
              "      <th>B</th>\n",
              "      <th>LSTAT</th>\n",
              "    </tr>\n",
              "  </thead>\n",
              "  <tbody>\n",
              "    <tr>\n",
              "      <th>0</th>\n",
              "      <td>0.00632</td>\n",
              "      <td>18.0</td>\n",
              "      <td>2.31</td>\n",
              "      <td>0.0</td>\n",
              "      <td>0.538</td>\n",
              "      <td>6.575</td>\n",
              "      <td>65.2</td>\n",
              "      <td>4.0900</td>\n",
              "      <td>1.0</td>\n",
              "      <td>296.0</td>\n",
              "      <td>15.3</td>\n",
              "      <td>396.90</td>\n",
              "      <td>4.98</td>\n",
              "    </tr>\n",
              "    <tr>\n",
              "      <th>1</th>\n",
              "      <td>0.02731</td>\n",
              "      <td>0.0</td>\n",
              "      <td>7.07</td>\n",
              "      <td>0.0</td>\n",
              "      <td>0.469</td>\n",
              "      <td>6.421</td>\n",
              "      <td>78.9</td>\n",
              "      <td>4.9671</td>\n",
              "      <td>2.0</td>\n",
              "      <td>242.0</td>\n",
              "      <td>17.8</td>\n",
              "      <td>396.90</td>\n",
              "      <td>9.14</td>\n",
              "    </tr>\n",
              "    <tr>\n",
              "      <th>2</th>\n",
              "      <td>0.02729</td>\n",
              "      <td>0.0</td>\n",
              "      <td>7.07</td>\n",
              "      <td>0.0</td>\n",
              "      <td>0.469</td>\n",
              "      <td>7.185</td>\n",
              "      <td>61.1</td>\n",
              "      <td>4.9671</td>\n",
              "      <td>2.0</td>\n",
              "      <td>242.0</td>\n",
              "      <td>17.8</td>\n",
              "      <td>392.83</td>\n",
              "      <td>4.03</td>\n",
              "    </tr>\n",
              "    <tr>\n",
              "      <th>3</th>\n",
              "      <td>0.03237</td>\n",
              "      <td>0.0</td>\n",
              "      <td>2.18</td>\n",
              "      <td>0.0</td>\n",
              "      <td>0.458</td>\n",
              "      <td>6.998</td>\n",
              "      <td>45.8</td>\n",
              "      <td>6.0622</td>\n",
              "      <td>3.0</td>\n",
              "      <td>222.0</td>\n",
              "      <td>18.7</td>\n",
              "      <td>394.63</td>\n",
              "      <td>2.94</td>\n",
              "    </tr>\n",
              "    <tr>\n",
              "      <th>4</th>\n",
              "      <td>0.06905</td>\n",
              "      <td>0.0</td>\n",
              "      <td>2.18</td>\n",
              "      <td>0.0</td>\n",
              "      <td>0.458</td>\n",
              "      <td>7.147</td>\n",
              "      <td>54.2</td>\n",
              "      <td>6.0622</td>\n",
              "      <td>3.0</td>\n",
              "      <td>222.0</td>\n",
              "      <td>18.7</td>\n",
              "      <td>396.90</td>\n",
              "      <td>5.33</td>\n",
              "    </tr>\n",
              "    <tr>\n",
              "      <th>5</th>\n",
              "      <td>0.02985</td>\n",
              "      <td>0.0</td>\n",
              "      <td>2.18</td>\n",
              "      <td>0.0</td>\n",
              "      <td>0.458</td>\n",
              "      <td>6.430</td>\n",
              "      <td>58.7</td>\n",
              "      <td>6.0622</td>\n",
              "      <td>3.0</td>\n",
              "      <td>222.0</td>\n",
              "      <td>18.7</td>\n",
              "      <td>394.12</td>\n",
              "      <td>5.21</td>\n",
              "    </tr>\n",
              "    <tr>\n",
              "      <th>6</th>\n",
              "      <td>0.08829</td>\n",
              "      <td>12.5</td>\n",
              "      <td>7.87</td>\n",
              "      <td>0.0</td>\n",
              "      <td>0.524</td>\n",
              "      <td>6.012</td>\n",
              "      <td>66.6</td>\n",
              "      <td>5.5605</td>\n",
              "      <td>5.0</td>\n",
              "      <td>311.0</td>\n",
              "      <td>15.2</td>\n",
              "      <td>395.60</td>\n",
              "      <td>12.43</td>\n",
              "    </tr>\n",
              "    <tr>\n",
              "      <th>7</th>\n",
              "      <td>0.14455</td>\n",
              "      <td>12.5</td>\n",
              "      <td>7.87</td>\n",
              "      <td>0.0</td>\n",
              "      <td>0.524</td>\n",
              "      <td>6.172</td>\n",
              "      <td>96.1</td>\n",
              "      <td>5.9505</td>\n",
              "      <td>5.0</td>\n",
              "      <td>311.0</td>\n",
              "      <td>15.2</td>\n",
              "      <td>396.90</td>\n",
              "      <td>19.15</td>\n",
              "    </tr>\n",
              "    <tr>\n",
              "      <th>8</th>\n",
              "      <td>0.21124</td>\n",
              "      <td>12.5</td>\n",
              "      <td>7.87</td>\n",
              "      <td>0.0</td>\n",
              "      <td>0.524</td>\n",
              "      <td>5.631</td>\n",
              "      <td>100.0</td>\n",
              "      <td>6.0821</td>\n",
              "      <td>5.0</td>\n",
              "      <td>311.0</td>\n",
              "      <td>15.2</td>\n",
              "      <td>386.63</td>\n",
              "      <td>29.93</td>\n",
              "    </tr>\n",
              "    <tr>\n",
              "      <th>9</th>\n",
              "      <td>0.17004</td>\n",
              "      <td>12.5</td>\n",
              "      <td>7.87</td>\n",
              "      <td>0.0</td>\n",
              "      <td>0.524</td>\n",
              "      <td>6.004</td>\n",
              "      <td>85.9</td>\n",
              "      <td>6.5921</td>\n",
              "      <td>5.0</td>\n",
              "      <td>311.0</td>\n",
              "      <td>15.2</td>\n",
              "      <td>386.71</td>\n",
              "      <td>17.10</td>\n",
              "    </tr>\n",
              "  </tbody>\n",
              "</table>\n",
              "</div>"
            ],
            "text/plain": [
              "      CRIM    ZN  INDUS  CHAS    NOX  ...  RAD    TAX  PTRATIO       B  LSTAT\n",
              "0  0.00632  18.0   2.31   0.0  0.538  ...  1.0  296.0     15.3  396.90   4.98\n",
              "1  0.02731   0.0   7.07   0.0  0.469  ...  2.0  242.0     17.8  396.90   9.14\n",
              "2  0.02729   0.0   7.07   0.0  0.469  ...  2.0  242.0     17.8  392.83   4.03\n",
              "3  0.03237   0.0   2.18   0.0  0.458  ...  3.0  222.0     18.7  394.63   2.94\n",
              "4  0.06905   0.0   2.18   0.0  0.458  ...  3.0  222.0     18.7  396.90   5.33\n",
              "5  0.02985   0.0   2.18   0.0  0.458  ...  3.0  222.0     18.7  394.12   5.21\n",
              "6  0.08829  12.5   7.87   0.0  0.524  ...  5.0  311.0     15.2  395.60  12.43\n",
              "7  0.14455  12.5   7.87   0.0  0.524  ...  5.0  311.0     15.2  396.90  19.15\n",
              "8  0.21124  12.5   7.87   0.0  0.524  ...  5.0  311.0     15.2  386.63  29.93\n",
              "9  0.17004  12.5   7.87   0.0  0.524  ...  5.0  311.0     15.2  386.71  17.10\n",
              "\n",
              "[10 rows x 13 columns]"
            ]
          },
          "metadata": {
            "tags": []
          },
          "execution_count": 231
        }
      ]
    },
    {
      "cell_type": "code",
      "metadata": {
        "id": "hU1djU7RA1FD"
      },
      "source": [
        "x_train, x_test, y_train, y_test = train_test_split(x_data, y_data, test_size=.3, random_state=44, shuffle=True)"
      ],
      "execution_count": 211,
      "outputs": []
    },
    {
      "cell_type": "code",
      "metadata": {
        "id": "1LjV3b4IK7VT"
      },
      "source": [
        ""
      ],
      "execution_count": 211,
      "outputs": []
    },
    {
      "cell_type": "code",
      "metadata": {
        "id": "wx0KFgV6DeFJ"
      },
      "source": [
        "scaler = MinMaxScaler()"
      ],
      "execution_count": 212,
      "outputs": []
    },
    {
      "cell_type": "code",
      "metadata": {
        "id": "dZd0ISh_DwAu"
      },
      "source": [
        "x_train_sc = scaler.fit_transform(x_train)\n",
        "x_test_sc = scaler.transform(x_test)\n",
        "\n",
        "x_train = pd.DataFrame(data=x_train_sc, columns=x_train.columns, index=x_train.index)\n",
        "x_test = pd.DataFrame(data=x_test_sc, columns=x_test.columns, index = x_test.index)\n",
        "\n"
      ],
      "execution_count": 220,
      "outputs": []
    },
    {
      "cell_type": "code",
      "metadata": {
        "id": "cgZ-9sni_zoz"
      },
      "source": [
        "import keras\n",
        "from keras.layers import Input, Dense\n",
        "from keras.models import Model\n",
        "from keras.callbacks import EarlyStopping"
      ],
      "execution_count": 221,
      "outputs": []
    },
    {
      "cell_type": "code",
      "metadata": {
        "id": "RGV3O0_0IoMs"
      },
      "source": [
        "es = EarlyStopping(monitor='val_loss', patience=5)"
      ],
      "execution_count": 222,
      "outputs": []
    },
    {
      "cell_type": "code",
      "metadata": {
        "id": "qK5dBtYqCMij"
      },
      "source": [
        "def get_model():\n",
        "    input = Input(shape=(13,))\n",
        "\n",
        "    x = Dense(32, activation='relu')(input)\n",
        "    x = Dense(64, activation='relu')(x)\n",
        "    x = Dense(128, activation='relu')(x)\n",
        "    x = Dense(128, activation='relu')(x)\n",
        "    x = Dense(64, activation='relu')(x)\n",
        "    x = Dense(32, activation='relu')(x)\n",
        "    output = Dense(1)(x)\n",
        "\n",
        "    model = Model(input, output)\n",
        "    model.compile(optimizer='adam', loss = 'mse', metrics=['mae'])\n",
        "    return model\n",
        "\n"
      ],
      "execution_count": 223,
      "outputs": []
    },
    {
      "cell_type": "code",
      "metadata": {
        "id": "w4XnuLxaHQ8F"
      },
      "source": [
        "kfold = KFold(n_splits=3, random_state=44, shuffle=True)"
      ],
      "execution_count": 224,
      "outputs": []
    },
    {
      "cell_type": "code",
      "metadata": {
        "colab": {
          "base_uri": "https://localhost:8080/"
        },
        "id": "6wgQoNiLHEtX",
        "outputId": "a2513dae-ab93-4c27-9c09-210f45d9d3b3"
      },
      "source": [
        "mae_list = []\n",
        "\n",
        "for train_index, val_index in kfold.split(x_train):\n",
        "    # 해당 인덱스는 무작위로 생성됩니다.\n",
        "    # 무작위로 생성해주는 것은 과대적합을 피할 수 있는 좋은 방법입니다.\n",
        "    x_train_fold, x_val_fold = x_train.iloc[train_index], x_train.iloc[val_index]\n",
        "    y_train_fold, y_val_fold = y_train.iloc[train_index], y_train.iloc[val_index]\n",
        "\n",
        "    model = get_model()\n",
        "    model.fit(x_train_fold, y_train_fold, epochs=100, batch_size=10, verbose=1,callbacks=es, validation_data=(x_val_fold, y_val_fold))\n",
        "    \n",
        "    _, test_mae = model.evaluate(x_test, y_test)\n",
        "    mae_list.append(test_mae)\n",
        "\n",
        "print(mae_list)\n"
      ],
      "execution_count": 225,
      "outputs": [
        {
          "output_type": "stream",
          "text": [
            "Epoch 1/100\n",
            "24/24 [==============================] - 1s 13ms/step - loss: 543.9337 - mae: 21.5767 - val_loss: 393.0091 - val_mae: 16.8291\n",
            "Epoch 2/100\n",
            "24/24 [==============================] - 0s 4ms/step - loss: 202.8872 - mae: 11.1232 - val_loss: 155.3945 - val_mae: 9.0642\n",
            "Epoch 3/100\n",
            "24/24 [==============================] - 0s 5ms/step - loss: 99.2823 - mae: 6.9673 - val_loss: 99.4727 - val_mae: 7.6151\n",
            "Epoch 4/100\n",
            "24/24 [==============================] - 0s 4ms/step - loss: 58.6366 - mae: 5.8408 - val_loss: 83.5927 - val_mae: 6.6295\n",
            "Epoch 5/100\n",
            "24/24 [==============================] - 0s 4ms/step - loss: 39.7511 - mae: 4.7734 - val_loss: 79.1817 - val_mae: 5.9667\n",
            "Epoch 6/100\n",
            "24/24 [==============================] - 0s 4ms/step - loss: 48.0026 - mae: 4.9816 - val_loss: 68.5026 - val_mae: 5.5382\n",
            "Epoch 7/100\n",
            "24/24 [==============================] - 0s 5ms/step - loss: 45.5435 - mae: 4.7483 - val_loss: 62.7541 - val_mae: 5.0521\n",
            "Epoch 8/100\n",
            "24/24 [==============================] - 0s 4ms/step - loss: 31.5068 - mae: 3.9444 - val_loss: 56.3125 - val_mae: 4.7270\n",
            "Epoch 9/100\n",
            "24/24 [==============================] - 0s 4ms/step - loss: 31.6128 - mae: 3.8552 - val_loss: 47.3357 - val_mae: 4.3013\n",
            "Epoch 10/100\n",
            "24/24 [==============================] - 0s 4ms/step - loss: 22.2220 - mae: 3.2384 - val_loss: 39.2732 - val_mae: 3.8973\n",
            "Epoch 11/100\n",
            "24/24 [==============================] - 0s 4ms/step - loss: 21.7446 - mae: 3.1885 - val_loss: 33.5739 - val_mae: 3.6306\n",
            "Epoch 12/100\n",
            "24/24 [==============================] - 0s 4ms/step - loss: 18.5910 - mae: 2.8362 - val_loss: 31.5190 - val_mae: 3.5237\n",
            "Epoch 13/100\n",
            "24/24 [==============================] - 0s 5ms/step - loss: 17.1740 - mae: 2.8910 - val_loss: 31.9426 - val_mae: 3.3657\n",
            "Epoch 14/100\n",
            "24/24 [==============================] - 0s 4ms/step - loss: 17.0757 - mae: 2.9209 - val_loss: 31.2524 - val_mae: 3.1885\n",
            "Epoch 15/100\n",
            "24/24 [==============================] - 0s 5ms/step - loss: 15.4733 - mae: 2.7052 - val_loss: 28.3362 - val_mae: 3.0918\n",
            "Epoch 16/100\n",
            "24/24 [==============================] - 0s 4ms/step - loss: 22.6352 - mae: 3.0144 - val_loss: 28.6794 - val_mae: 3.5333\n",
            "Epoch 17/100\n",
            "24/24 [==============================] - 0s 5ms/step - loss: 14.8004 - mae: 2.6883 - val_loss: 27.2290 - val_mae: 3.0064\n",
            "Epoch 18/100\n",
            "24/24 [==============================] - 0s 4ms/step - loss: 14.7213 - mae: 2.5624 - val_loss: 29.7228 - val_mae: 3.0364\n",
            "Epoch 19/100\n",
            "24/24 [==============================] - 0s 4ms/step - loss: 14.3387 - mae: 2.6235 - val_loss: 27.8537 - val_mae: 2.9579\n",
            "Epoch 20/100\n",
            "24/24 [==============================] - 0s 4ms/step - loss: 18.7710 - mae: 3.0534 - val_loss: 27.5083 - val_mae: 2.9239\n",
            "Epoch 21/100\n",
            "24/24 [==============================] - 0s 4ms/step - loss: 9.9201 - mae: 2.1649 - val_loss: 24.9631 - val_mae: 2.9238\n",
            "Epoch 22/100\n",
            "24/24 [==============================] - 0s 5ms/step - loss: 11.8178 - mae: 2.4059 - val_loss: 43.9187 - val_mae: 4.4434\n",
            "Epoch 23/100\n",
            "24/24 [==============================] - 0s 4ms/step - loss: 15.2669 - mae: 2.8008 - val_loss: 26.2391 - val_mae: 2.8735\n",
            "Epoch 24/100\n",
            "24/24 [==============================] - 0s 5ms/step - loss: 9.7089 - mae: 2.2416 - val_loss: 25.5507 - val_mae: 2.8366\n",
            "Epoch 25/100\n",
            "24/24 [==============================] - 0s 4ms/step - loss: 11.9894 - mae: 2.6582 - val_loss: 29.1552 - val_mae: 3.0230\n",
            "Epoch 26/100\n",
            "24/24 [==============================] - 0s 5ms/step - loss: 11.7946 - mae: 2.3332 - val_loss: 25.2155 - val_mae: 3.3718\n",
            "5/5 [==============================] - 0s 2ms/step - loss: 15.4392 - mae: 3.1656\n",
            "Epoch 1/100\n",
            "24/24 [==============================] - 1s 26ms/step - loss: 546.7318 - mae: 21.4136 - val_loss: 197.6762 - val_mae: 11.2255\n",
            "Epoch 2/100\n",
            "24/24 [==============================] - 0s 4ms/step - loss: 142.6700 - mae: 9.2974 - val_loss: 94.9479 - val_mae: 7.2583\n",
            "Epoch 3/100\n",
            "24/24 [==============================] - 0s 4ms/step - loss: 102.4219 - mae: 7.8326 - val_loss: 67.0330 - val_mae: 6.0929\n",
            "Epoch 4/100\n",
            "24/24 [==============================] - 0s 4ms/step - loss: 87.0226 - mae: 7.1582 - val_loss: 48.7270 - val_mae: 4.9421\n",
            "Epoch 5/100\n",
            "24/24 [==============================] - 0s 5ms/step - loss: 48.8965 - mae: 5.0478 - val_loss: 51.2216 - val_mae: 5.9050\n",
            "Epoch 6/100\n",
            "24/24 [==============================] - 0s 4ms/step - loss: 52.7193 - mae: 5.4705 - val_loss: 27.4812 - val_mae: 3.7757\n",
            "Epoch 7/100\n",
            "24/24 [==============================] - 0s 4ms/step - loss: 33.1137 - mae: 4.1580 - val_loss: 24.4394 - val_mae: 3.7094\n",
            "Epoch 8/100\n",
            "24/24 [==============================] - 0s 5ms/step - loss: 31.3902 - mae: 3.7854 - val_loss: 22.4565 - val_mae: 3.5203\n",
            "Epoch 9/100\n",
            "24/24 [==============================] - 0s 4ms/step - loss: 27.1846 - mae: 3.5840 - val_loss: 26.0529 - val_mae: 3.8306\n",
            "Epoch 10/100\n",
            "24/24 [==============================] - 0s 4ms/step - loss: 27.9607 - mae: 3.6198 - val_loss: 18.9613 - val_mae: 3.2422\n",
            "Epoch 11/100\n",
            "24/24 [==============================] - 0s 4ms/step - loss: 14.5949 - mae: 2.7228 - val_loss: 19.1040 - val_mae: 3.2748\n",
            "Epoch 12/100\n",
            "24/24 [==============================] - 0s 4ms/step - loss: 25.1711 - mae: 3.2556 - val_loss: 22.4813 - val_mae: 3.5651\n",
            "Epoch 13/100\n",
            "24/24 [==============================] - 0s 4ms/step - loss: 23.2893 - mae: 3.2315 - val_loss: 21.1993 - val_mae: 3.4389\n",
            "Epoch 14/100\n",
            "24/24 [==============================] - 0s 4ms/step - loss: 16.6061 - mae: 2.9668 - val_loss: 21.1482 - val_mae: 3.5064\n",
            "Epoch 15/100\n",
            "24/24 [==============================] - 0s 4ms/step - loss: 24.3223 - mae: 3.4313 - val_loss: 16.6135 - val_mae: 2.9481\n",
            "Epoch 16/100\n",
            "24/24 [==============================] - 0s 4ms/step - loss: 18.0150 - mae: 2.6754 - val_loss: 17.8440 - val_mae: 3.1545\n",
            "Epoch 17/100\n",
            "24/24 [==============================] - 0s 4ms/step - loss: 11.0395 - mae: 2.3497 - val_loss: 15.8319 - val_mae: 2.8462\n",
            "Epoch 18/100\n",
            "24/24 [==============================] - 0s 4ms/step - loss: 11.8430 - mae: 2.4011 - val_loss: 18.3951 - val_mae: 3.2658\n",
            "Epoch 19/100\n",
            "24/24 [==============================] - 0s 4ms/step - loss: 19.2862 - mae: 3.1794 - val_loss: 16.7501 - val_mae: 2.9568\n",
            "Epoch 20/100\n",
            "24/24 [==============================] - 0s 4ms/step - loss: 13.0548 - mae: 2.4649 - val_loss: 16.5324 - val_mae: 2.9478\n",
            "Epoch 21/100\n",
            "24/24 [==============================] - 0s 4ms/step - loss: 16.8407 - mae: 2.6816 - val_loss: 18.6693 - val_mae: 3.2640\n",
            "Epoch 22/100\n",
            "24/24 [==============================] - 0s 4ms/step - loss: 12.7806 - mae: 2.4570 - val_loss: 16.7220 - val_mae: 2.9035\n",
            "5/5 [==============================] - 0s 2ms/step - loss: 15.2774 - mae: 2.9837\n",
            "Epoch 1/100\n",
            "24/24 [==============================] - 1s 12ms/step - loss: 612.9778 - mae: 22.4610 - val_loss: 252.8971 - val_mae: 13.4591\n",
            "Epoch 2/100\n",
            "24/24 [==============================] - 0s 4ms/step - loss: 208.7496 - mae: 11.4783 - val_loss: 72.9092 - val_mae: 5.9683\n",
            "Epoch 3/100\n",
            "24/24 [==============================] - 0s 4ms/step - loss: 84.2844 - mae: 6.4231 - val_loss: 48.7144 - val_mae: 4.6872\n",
            "Epoch 4/100\n",
            "24/24 [==============================] - 0s 5ms/step - loss: 50.9319 - mae: 5.0874 - val_loss: 51.6123 - val_mae: 5.5938\n",
            "Epoch 5/100\n",
            "24/24 [==============================] - 0s 4ms/step - loss: 46.9745 - mae: 5.0007 - val_loss: 35.1698 - val_mae: 3.8541\n",
            "Epoch 6/100\n",
            "24/24 [==============================] - 0s 5ms/step - loss: 43.1796 - mae: 4.3017 - val_loss: 29.6450 - val_mae: 3.5143\n",
            "Epoch 7/100\n",
            "24/24 [==============================] - 0s 4ms/step - loss: 43.6401 - mae: 4.4980 - val_loss: 28.7239 - val_mae: 3.6190\n",
            "Epoch 8/100\n",
            "24/24 [==============================] - 0s 4ms/step - loss: 25.3250 - mae: 3.7271 - val_loss: 27.5857 - val_mae: 3.4919\n",
            "Epoch 9/100\n",
            "24/24 [==============================] - 0s 4ms/step - loss: 24.8178 - mae: 3.3920 - val_loss: 26.0929 - val_mae: 3.3662\n",
            "Epoch 10/100\n",
            "24/24 [==============================] - 0s 4ms/step - loss: 31.3487 - mae: 3.4215 - val_loss: 32.2259 - val_mae: 4.2303\n",
            "Epoch 11/100\n",
            "24/24 [==============================] - 0s 4ms/step - loss: 24.1920 - mae: 3.4406 - val_loss: 22.7479 - val_mae: 2.8979\n",
            "Epoch 12/100\n",
            "24/24 [==============================] - 0s 4ms/step - loss: 17.4626 - mae: 2.8168 - val_loss: 21.9738 - val_mae: 2.9008\n",
            "Epoch 13/100\n",
            "24/24 [==============================] - 0s 5ms/step - loss: 17.4936 - mae: 2.8827 - val_loss: 21.3710 - val_mae: 2.8021\n",
            "Epoch 14/100\n",
            "24/24 [==============================] - 0s 4ms/step - loss: 16.2625 - mae: 2.7065 - val_loss: 20.5738 - val_mae: 2.7801\n",
            "Epoch 15/100\n",
            "24/24 [==============================] - 0s 5ms/step - loss: 16.7322 - mae: 2.6720 - val_loss: 20.7780 - val_mae: 2.8386\n",
            "Epoch 16/100\n",
            "24/24 [==============================] - 0s 5ms/step - loss: 17.7556 - mae: 2.8845 - val_loss: 19.6003 - val_mae: 2.8412\n",
            "Epoch 17/100\n",
            "24/24 [==============================] - 0s 4ms/step - loss: 20.0070 - mae: 2.6339 - val_loss: 18.3851 - val_mae: 2.8041\n",
            "Epoch 18/100\n",
            "24/24 [==============================] - 0s 4ms/step - loss: 14.2603 - mae: 2.6977 - val_loss: 26.6977 - val_mae: 4.0841\n",
            "Epoch 19/100\n",
            "24/24 [==============================] - 0s 4ms/step - loss: 18.3627 - mae: 3.1188 - val_loss: 17.1339 - val_mae: 2.6031\n",
            "Epoch 20/100\n",
            "24/24 [==============================] - 0s 4ms/step - loss: 9.6225 - mae: 2.2374 - val_loss: 19.2986 - val_mae: 2.9510\n",
            "Epoch 21/100\n",
            "24/24 [==============================] - 0s 4ms/step - loss: 14.8245 - mae: 2.6575 - val_loss: 22.0793 - val_mae: 3.3433\n",
            "Epoch 22/100\n",
            "24/24 [==============================] - 0s 5ms/step - loss: 12.2187 - mae: 2.6074 - val_loss: 15.9289 - val_mae: 2.5452\n",
            "Epoch 23/100\n",
            "24/24 [==============================] - 0s 4ms/step - loss: 8.1282 - mae: 1.9538 - val_loss: 17.5667 - val_mae: 2.7814\n",
            "Epoch 24/100\n",
            "24/24 [==============================] - 0s 4ms/step - loss: 10.7909 - mae: 2.3210 - val_loss: 16.2885 - val_mae: 2.6412\n",
            "Epoch 25/100\n",
            "24/24 [==============================] - 0s 4ms/step - loss: 9.9890 - mae: 2.2315 - val_loss: 14.9542 - val_mae: 2.4583\n",
            "Epoch 26/100\n",
            "24/24 [==============================] - 0s 4ms/step - loss: 7.3169 - mae: 1.9533 - val_loss: 15.6559 - val_mae: 2.5480\n",
            "Epoch 27/100\n",
            "24/24 [==============================] - 0s 4ms/step - loss: 7.4983 - mae: 2.0520 - val_loss: 17.4828 - val_mae: 2.8524\n",
            "Epoch 28/100\n",
            "24/24 [==============================] - 0s 4ms/step - loss: 8.0080 - mae: 2.0817 - val_loss: 14.4771 - val_mae: 2.4372\n",
            "Epoch 29/100\n",
            "24/24 [==============================] - 0s 4ms/step - loss: 7.3992 - mae: 2.0728 - val_loss: 17.0640 - val_mae: 2.8153\n",
            "Epoch 30/100\n",
            "24/24 [==============================] - 0s 4ms/step - loss: 6.7864 - mae: 2.0039 - val_loss: 15.0441 - val_mae: 2.5826\n",
            "Epoch 31/100\n",
            "24/24 [==============================] - 0s 4ms/step - loss: 10.5024 - mae: 2.3090 - val_loss: 14.6347 - val_mae: 2.4354\n",
            "Epoch 32/100\n",
            "24/24 [==============================] - 0s 5ms/step - loss: 12.1824 - mae: 2.5291 - val_loss: 15.7465 - val_mae: 2.5470\n",
            "Epoch 33/100\n",
            "24/24 [==============================] - 0s 4ms/step - loss: 11.3561 - mae: 2.0400 - val_loss: 16.5510 - val_mae: 2.7356\n",
            "5/5 [==============================] - 0s 3ms/step - loss: 12.9671 - mae: 2.7598\n",
            "[3.1656134128570557, 2.9836905002593994, 2.759782075881958]\n"
          ],
          "name": "stdout"
        }
      ]
    },
    {
      "cell_type": "code",
      "metadata": {
        "colab": {
          "base_uri": "https://localhost:8080/"
        },
        "id": "aA36eHghG_RV",
        "outputId": "99b4426d-fec5-47cf-cd98-59b5c5c9cedf"
      },
      "source": [
        "mae_list"
      ],
      "execution_count": 230,
      "outputs": [
        {
          "output_type": "execute_result",
          "data": {
            "text/plain": [
              "[3.1656134128570557, 2.9836905002593994, 2.759782075881958]"
            ]
          },
          "metadata": {
            "tags": []
          },
          "execution_count": 230
        }
      ]
    },
    {
      "cell_type": "code",
      "metadata": {
        "id": "jHoeTm0oC4pz"
      },
      "source": [
        ""
      ],
      "execution_count": 103,
      "outputs": []
    },
    {
      "cell_type": "code",
      "metadata": {
        "colab": {
          "base_uri": "https://localhost:8080/"
        },
        "id": "LDnVEB2UDCP5",
        "outputId": "57730828-b376-42ee-dd59-06f993d4e8c1"
      },
      "source": [
        "model.summary()"
      ],
      "execution_count": 104,
      "outputs": [
        {
          "output_type": "stream",
          "text": [
            "Model: \"model_11\"\n",
            "_________________________________________________________________\n",
            "Layer (type)                 Output Shape              Param #   \n",
            "=================================================================\n",
            "input_12 (InputLayer)        [(None, 13)]              0         \n",
            "_________________________________________________________________\n",
            "dense_62 (Dense)             (None, 32)                448       \n",
            "_________________________________________________________________\n",
            "dense_63 (Dense)             (None, 64)                2112      \n",
            "_________________________________________________________________\n",
            "dense_64 (Dense)             (None, 64)                4160      \n",
            "_________________________________________________________________\n",
            "dense_65 (Dense)             (None, 32)                2080      \n",
            "_________________________________________________________________\n",
            "dense_66 (Dense)             (None, 1)                 33        \n",
            "=================================================================\n",
            "Total params: 8,833\n",
            "Trainable params: 8,833\n",
            "Non-trainable params: 0\n",
            "_________________________________________________________________\n"
          ],
          "name": "stdout"
        }
      ]
    },
    {
      "cell_type": "code",
      "metadata": {
        "colab": {
          "base_uri": "https://localhost:8080/"
        },
        "id": "o-czn9myDDim",
        "outputId": "593be8f1-6511-49c0-892e-dc364fd473e8"
      },
      "source": [
        "model.fit(x_data, y_data, epochs=100, batch_size=10, verbose=1,callbacks=es, validation_data=(x_test, y_test))"
      ],
      "execution_count": 105,
      "outputs": [
        {
          "output_type": "stream",
          "text": [
            "Epoch 1/100\n",
            "51/51 [==============================] - 1s 6ms/step - loss: 1332.6638 - mae: 26.4836 - val_loss: 81.4126 - val_mae: 6.2119\n",
            "Epoch 2/100\n",
            "51/51 [==============================] - 0s 3ms/step - loss: 59.5273 - mae: 5.6423 - val_loss: 71.5017 - val_mae: 5.6992\n",
            "Epoch 3/100\n",
            "51/51 [==============================] - 0s 2ms/step - loss: 58.1320 - mae: 5.5339 - val_loss: 57.2966 - val_mae: 5.1311\n",
            "Epoch 4/100\n",
            "51/51 [==============================] - 0s 3ms/step - loss: 74.6804 - mae: 5.9751 - val_loss: 61.0766 - val_mae: 5.1722\n",
            "Epoch 5/100\n",
            "51/51 [==============================] - 0s 3ms/step - loss: 50.4500 - mae: 5.1667 - val_loss: 54.9040 - val_mae: 4.8822\n",
            "Epoch 6/100\n",
            "51/51 [==============================] - 0s 3ms/step - loss: 55.7966 - mae: 5.2699 - val_loss: 52.7269 - val_mae: 5.3028\n",
            "Epoch 7/100\n",
            "51/51 [==============================] - 0s 2ms/step - loss: 55.6801 - mae: 5.2274 - val_loss: 55.5086 - val_mae: 5.0127\n",
            "Epoch 8/100\n",
            "51/51 [==============================] - 0s 3ms/step - loss: 58.4705 - mae: 5.5458 - val_loss: 49.1182 - val_mae: 4.8433\n",
            "Epoch 9/100\n",
            "51/51 [==============================] - 0s 2ms/step - loss: 49.0503 - mae: 5.1418 - val_loss: 50.7317 - val_mae: 4.7806\n",
            "Epoch 10/100\n",
            "51/51 [==============================] - 0s 3ms/step - loss: 46.3438 - mae: 4.7604 - val_loss: 49.1008 - val_mae: 5.2061\n",
            "Epoch 11/100\n",
            "51/51 [==============================] - 0s 3ms/step - loss: 60.4551 - mae: 5.5423 - val_loss: 59.8561 - val_mae: 5.0400\n",
            "Epoch 12/100\n",
            "51/51 [==============================] - 0s 3ms/step - loss: 51.5094 - mae: 5.0712 - val_loss: 64.7209 - val_mae: 5.4799\n",
            "Epoch 13/100\n",
            "51/51 [==============================] - 0s 3ms/step - loss: 50.7027 - mae: 4.9556 - val_loss: 44.6651 - val_mae: 4.8901\n",
            "Epoch 14/100\n",
            "51/51 [==============================] - 0s 2ms/step - loss: 46.6471 - mae: 4.7623 - val_loss: 41.0546 - val_mae: 4.3939\n",
            "Epoch 15/100\n",
            "51/51 [==============================] - 0s 3ms/step - loss: 39.8936 - mae: 4.5118 - val_loss: 56.6399 - val_mae: 6.2333\n",
            "Epoch 16/100\n",
            "51/51 [==============================] - 0s 3ms/step - loss: 63.3416 - mae: 6.0144 - val_loss: 41.3871 - val_mae: 4.2030\n",
            "Epoch 17/100\n",
            "51/51 [==============================] - 0s 3ms/step - loss: 51.4798 - mae: 5.1740 - val_loss: 59.4432 - val_mae: 6.3791\n",
            "Epoch 18/100\n",
            "51/51 [==============================] - 0s 3ms/step - loss: 56.9884 - mae: 5.6050 - val_loss: 54.6230 - val_mae: 4.9196\n",
            "Epoch 19/100\n",
            "51/51 [==============================] - 0s 2ms/step - loss: 59.6552 - mae: 5.3790 - val_loss: 38.0471 - val_mae: 4.5052\n",
            "Epoch 20/100\n",
            "51/51 [==============================] - 0s 2ms/step - loss: 35.9896 - mae: 4.3518 - val_loss: 45.6167 - val_mae: 4.4229\n",
            "Epoch 21/100\n",
            "51/51 [==============================] - 0s 2ms/step - loss: 38.1315 - mae: 4.3719 - val_loss: 43.4710 - val_mae: 4.5129\n",
            "Epoch 22/100\n",
            "51/51 [==============================] - 0s 3ms/step - loss: 51.5204 - mae: 5.2844 - val_loss: 46.1608 - val_mae: 4.5489\n",
            "Epoch 23/100\n",
            "51/51 [==============================] - 0s 3ms/step - loss: 47.2845 - mae: 5.1196 - val_loss: 37.6816 - val_mae: 4.5869\n",
            "Epoch 24/100\n",
            "51/51 [==============================] - 0s 3ms/step - loss: 39.2830 - mae: 4.4920 - val_loss: 31.8902 - val_mae: 3.8371\n",
            "Epoch 25/100\n",
            "51/51 [==============================] - 0s 3ms/step - loss: 44.3299 - mae: 4.6938 - val_loss: 31.6928 - val_mae: 3.8615\n",
            "Epoch 26/100\n",
            "51/51 [==============================] - 0s 3ms/step - loss: 32.4884 - mae: 4.1161 - val_loss: 29.9368 - val_mae: 3.9536\n",
            "Epoch 27/100\n",
            "51/51 [==============================] - 0s 3ms/step - loss: 33.8152 - mae: 4.1784 - val_loss: 45.2855 - val_mae: 5.7562\n",
            "Epoch 28/100\n",
            "51/51 [==============================] - 0s 2ms/step - loss: 31.6146 - mae: 4.1348 - val_loss: 28.4167 - val_mae: 3.7146\n",
            "Epoch 29/100\n",
            "51/51 [==============================] - 0s 3ms/step - loss: 29.2140 - mae: 3.8749 - val_loss: 27.3377 - val_mae: 3.6973\n",
            "Epoch 30/100\n",
            "51/51 [==============================] - 0s 3ms/step - loss: 29.2128 - mae: 3.7800 - val_loss: 26.2282 - val_mae: 3.5314\n",
            "Epoch 31/100\n",
            "51/51 [==============================] - 0s 2ms/step - loss: 29.9257 - mae: 3.9749 - val_loss: 27.1360 - val_mae: 3.7579\n",
            "Epoch 32/100\n",
            "51/51 [==============================] - 0s 2ms/step - loss: 25.6803 - mae: 3.7307 - val_loss: 28.5692 - val_mae: 4.0742\n",
            "Epoch 33/100\n",
            "51/51 [==============================] - 0s 2ms/step - loss: 31.8026 - mae: 4.1521 - val_loss: 26.9620 - val_mae: 3.5904\n",
            "Epoch 34/100\n",
            "51/51 [==============================] - 0s 3ms/step - loss: 27.0541 - mae: 3.6932 - val_loss: 23.6892 - val_mae: 3.4049\n",
            "Epoch 35/100\n",
            "51/51 [==============================] - 0s 3ms/step - loss: 32.2769 - mae: 4.1780 - val_loss: 24.9073 - val_mae: 3.5470\n",
            "Epoch 36/100\n",
            "51/51 [==============================] - 0s 3ms/step - loss: 32.5097 - mae: 4.0198 - val_loss: 28.4655 - val_mae: 3.9643\n",
            "Epoch 37/100\n",
            "51/51 [==============================] - 0s 3ms/step - loss: 32.6104 - mae: 4.1347 - val_loss: 28.0191 - val_mae: 3.6264\n",
            "Epoch 38/100\n",
            "51/51 [==============================] - 0s 2ms/step - loss: 31.4727 - mae: 4.0934 - val_loss: 24.0086 - val_mae: 3.5361\n",
            "Epoch 39/100\n",
            "51/51 [==============================] - 0s 3ms/step - loss: 33.0576 - mae: 4.2356 - val_loss: 22.1038 - val_mae: 3.5184\n",
            "Epoch 40/100\n",
            "51/51 [==============================] - 0s 3ms/step - loss: 22.8110 - mae: 3.4018 - val_loss: 30.4623 - val_mae: 3.9887\n",
            "Epoch 41/100\n",
            "51/51 [==============================] - 0s 3ms/step - loss: 26.5471 - mae: 3.9101 - val_loss: 21.2177 - val_mae: 3.3731\n",
            "Epoch 42/100\n",
            "51/51 [==============================] - 0s 3ms/step - loss: 23.6330 - mae: 3.6417 - val_loss: 27.4849 - val_mae: 3.7979\n",
            "Epoch 43/100\n",
            "51/51 [==============================] - 0s 2ms/step - loss: 27.4876 - mae: 3.8072 - val_loss: 28.9361 - val_mae: 3.6876\n",
            "Epoch 44/100\n",
            "51/51 [==============================] - 0s 3ms/step - loss: 24.3778 - mae: 3.4876 - val_loss: 21.4541 - val_mae: 3.3506\n",
            "Epoch 45/100\n",
            "51/51 [==============================] - 0s 2ms/step - loss: 23.7774 - mae: 3.5391 - val_loss: 22.2071 - val_mae: 3.2550\n",
            "Epoch 46/100\n",
            "51/51 [==============================] - 0s 3ms/step - loss: 19.5178 - mae: 3.2119 - val_loss: 26.1498 - val_mae: 4.1095\n"
          ],
          "name": "stdout"
        },
        {
          "output_type": "execute_result",
          "data": {
            "text/plain": [
              "<tensorflow.python.keras.callbacks.History at 0x7fe3b798fa10>"
            ]
          },
          "metadata": {
            "tags": []
          },
          "execution_count": 105
        }
      ]
    },
    {
      "cell_type": "code",
      "metadata": {
        "colab": {
          "base_uri": "https://localhost:8080/"
        },
        "id": "flF29AQkDGk8",
        "outputId": "a55cb12c-f4fb-49d7-c21e-5b5ae5f66e67"
      },
      "source": [
        "model.history.history['loss']"
      ],
      "execution_count": 107,
      "outputs": [
        {
          "output_type": "execute_result",
          "data": {
            "text/plain": [
              "[495.4952087402344,\n",
              " 63.674564361572266,\n",
              " 63.73788070678711,\n",
              " 59.41636657714844,\n",
              " 57.4622802734375,\n",
              " 54.2923469543457,\n",
              " 59.45656204223633,\n",
              " 55.34852600097656,\n",
              " 51.87218475341797,\n",
              " 54.528564453125,\n",
              " 54.027381896972656,\n",
              " 53.331207275390625,\n",
              " 52.22025680541992,\n",
              " 47.78224182128906,\n",
              " 43.866878509521484,\n",
              " 52.907371520996094,\n",
              " 48.88383102416992,\n",
              " 56.23727798461914,\n",
              " 46.77631378173828,\n",
              " 43.437564849853516,\n",
              " 40.115020751953125,\n",
              " 46.845420837402344,\n",
              " 45.88404083251953,\n",
              " 37.85439682006836,\n",
              " 36.760345458984375,\n",
              " 34.06074142456055,\n",
              " 31.71523666381836,\n",
              " 32.46758270263672,\n",
              " 31.93307876586914,\n",
              " 30.62209129333496,\n",
              " 30.576892852783203,\n",
              " 33.03178024291992,\n",
              " 30.891206741333008,\n",
              " 28.789621353149414,\n",
              " 27.451139450073242,\n",
              " 27.907499313354492,\n",
              " 27.53173828125,\n",
              " 29.81560707092285,\n",
              " 30.639543533325195,\n",
              " 24.505876541137695,\n",
              " 28.0772705078125,\n",
              " 24.619733810424805,\n",
              " 26.69271469116211,\n",
              " 23.359025955200195,\n",
              " 23.556974411010742,\n",
              " 21.979705810546875]"
            ]
          },
          "metadata": {
            "tags": []
          },
          "execution_count": 107
        }
      ]
    },
    {
      "cell_type": "code",
      "metadata": {
        "id": "6Fb35MkKEXSC"
      },
      "source": [
        ""
      ],
      "execution_count": null,
      "outputs": []
    }
  ]
}