{
  "nbformat": 4,
  "nbformat_minor": 0,
  "metadata": {
    "colab": {
      "name": "pytorch_lr_basicipynb",
      "provenance": [],
      "collapsed_sections": [],
      "authorship_tag": "ABX9TyNq91jXOnltfBCEmFqS32tS",
      "include_colab_link": true
    },
    "kernelspec": {
      "name": "python3",
      "display_name": "Python 3"
    },
    "language_info": {
      "name": "python"
    }
  },
  "cells": [
    {
      "cell_type": "markdown",
      "metadata": {
        "id": "view-in-github",
        "colab_type": "text"
      },
      "source": [
        "<a href=\"https://colab.research.google.com/github/saykim/006958/blob/master/pytorch_lr_basicipynb.ipynb\" target=\"_parent\"><img src=\"https://colab.research.google.com/assets/colab-badge.svg\" alt=\"Open In Colab\"/></a>"
      ]
    },
    {
      "cell_type": "code",
      "metadata": {
        "id": "1cPjDJ_28GHQ"
      },
      "source": [
        "import torch \n",
        "import torch.nn as nn\n",
        "import torch.nn.functional as F\n",
        "import torch.optim as optim\n",
        "\n",
        "import numpy as np\n"
      ],
      "execution_count": 1,
      "outputs": []
    },
    {
      "cell_type": "markdown",
      "metadata": {
        "id": "F9u0Zm4z8Tv5"
      },
      "source": [
        "## 데이터 로드"
      ]
    },
    {
      "cell_type": "code",
      "metadata": {
        "id": "T2srTYDz8W9w"
      },
      "source": [
        "x_train = np.random.rand(10,1) #rand(a, b) a 자리는 원하는 sample, b자리는 차원\n",
        "y_train = ((x_train/0.3)**2+x_train)**3"
      ],
      "execution_count": 26,
      "outputs": []
    },
    {
      "cell_type": "markdown",
      "metadata": {
        "id": "lHcWjuvv-R2I"
      },
      "source": [
        "## 데이터를 torch로 변환"
      ]
    },
    {
      "cell_type": "code",
      "metadata": {
        "id": "CbhybcQi-XXa"
      },
      "source": [
        "x_train = torch.FloatTensor(x_train)\n",
        "y_train = torch.FloatTensor(y_train)"
      ],
      "execution_count": 27,
      "outputs": []
    },
    {
      "cell_type": "markdown",
      "metadata": {
        "id": "8WjNA0U6-Y65"
      },
      "source": [
        "## W, b 행을 만듬"
      ]
    },
    {
      "cell_type": "code",
      "metadata": {
        "id": "z3ySdxHZ88nr"
      },
      "source": [
        "W = torch.zeros(1, requires_grad=True)\n",
        "b = torch.zeros(1, requires_grad=True)"
      ],
      "execution_count": 28,
      "outputs": []
    },
    {
      "cell_type": "markdown",
      "metadata": {
        "id": "nV57qraS-gp7"
      },
      "source": [
        "## optimizer 생성"
      ]
    },
    {
      "cell_type": "code",
      "metadata": {
        "id": "ctom_sGz9IO4"
      },
      "source": [
        "learning_rate = 1e-2\n",
        "optimizer = optim.SGD([W,b], lr=learning_rate)"
      ],
      "execution_count": 29,
      "outputs": []
    },
    {
      "cell_type": "markdown",
      "metadata": {
        "id": "cdqXJDse-jJ4"
      },
      "source": [
        "## torch 미분 시작"
      ]
    },
    {
      "cell_type": "code",
      "metadata": {
        "colab": {
          "base_uri": "https://localhost:8080/"
        },
        "id": "tGSh7ta89Qhf",
        "outputId": "56fe0a33-ee28-44b9-f05a-7ce44324c754"
      },
      "source": [
        "n_epochs = 2000\n",
        "\n",
        "for epoch in range(n_epochs+1):\n",
        "    #H(x) 계산\n",
        "    H = x_train*W + b\n",
        "\n",
        "    #Cost(loss) 계산\n",
        "    cost = torch.mean(H-y_train)**2\n",
        "\n",
        "    #Cost 값으로 H(x)개선\n",
        "    optimizer.zero_grad() # 파이토치는 미분을 통해 얻은 기울기를 이전에 계산된 기울기 값에 누적시킨다. 그래서 기울기를 매번 초기회 해야한다.\n",
        "    cost.backward()\n",
        "    optimizer.step()\n",
        "#--------------------------  \n",
        "\n",
        "    if epoch % 50 == 0:\n",
        "        print('Epoch {:4d}/{}, W : {:.3f}, b : {:.3f}, Cost : {:.6f}'.format(epoch, n_epochs, W.item(), b.item(), cost.item()))\n"
      ],
      "execution_count": 30,
      "outputs": [
        {
          "output_type": "stream",
          "text": [
            "Epoch    0/2000, W : 1.605, b : 3.353, Cost : 28105.271484\n",
            "Epoch   50/2000, W : 46.951, b : 98.062, Cost : 2332.072998\n",
            "Epoch  100/2000, W : 60.013, b : 125.344, Cost : 193.506882\n",
            "Epoch  150/2000, W : 63.776, b : 133.203, Cost : 16.056641\n",
            "Epoch  200/2000, W : 64.860, b : 135.466, Cost : 1.332313\n",
            "Epoch  250/2000, W : 65.172, b : 136.119, Cost : 0.110531\n",
            "Epoch  300/2000, W : 65.262, b : 136.306, Cost : 0.009174\n",
            "Epoch  350/2000, W : 65.288, b : 136.360, Cost : 0.000762\n",
            "Epoch  400/2000, W : 65.295, b : 136.376, Cost : 0.000063\n",
            "Epoch  450/2000, W : 65.297, b : 136.381, Cost : 0.000005\n",
            "Epoch  500/2000, W : 65.298, b : 136.382, Cost : 0.000000\n",
            "Epoch  550/2000, W : 65.298, b : 136.382, Cost : 0.000000\n",
            "Epoch  600/2000, W : 65.298, b : 136.382, Cost : 0.000000\n",
            "Epoch  650/2000, W : 65.298, b : 136.382, Cost : 0.000000\n",
            "Epoch  700/2000, W : 65.298, b : 136.382, Cost : 0.000000\n",
            "Epoch  750/2000, W : 65.298, b : 136.382, Cost : 0.000000\n",
            "Epoch  800/2000, W : 65.298, b : 136.382, Cost : 0.000000\n",
            "Epoch  850/2000, W : 65.298, b : 136.382, Cost : 0.000000\n",
            "Epoch  900/2000, W : 65.298, b : 136.382, Cost : 0.000000\n",
            "Epoch  950/2000, W : 65.298, b : 136.382, Cost : 0.000000\n",
            "Epoch 1000/2000, W : 65.298, b : 136.382, Cost : 0.000000\n",
            "Epoch 1050/2000, W : 65.298, b : 136.382, Cost : 0.000000\n",
            "Epoch 1100/2000, W : 65.298, b : 136.382, Cost : 0.000000\n",
            "Epoch 1150/2000, W : 65.298, b : 136.382, Cost : 0.000000\n",
            "Epoch 1200/2000, W : 65.298, b : 136.382, Cost : 0.000000\n",
            "Epoch 1250/2000, W : 65.298, b : 136.382, Cost : 0.000000\n",
            "Epoch 1300/2000, W : 65.298, b : 136.382, Cost : 0.000000\n",
            "Epoch 1350/2000, W : 65.298, b : 136.382, Cost : 0.000000\n",
            "Epoch 1400/2000, W : 65.298, b : 136.382, Cost : 0.000000\n",
            "Epoch 1450/2000, W : 65.298, b : 136.382, Cost : 0.000000\n",
            "Epoch 1500/2000, W : 65.298, b : 136.382, Cost : 0.000000\n",
            "Epoch 1550/2000, W : 65.298, b : 136.382, Cost : 0.000000\n",
            "Epoch 1600/2000, W : 65.298, b : 136.382, Cost : 0.000000\n",
            "Epoch 1650/2000, W : 65.298, b : 136.382, Cost : 0.000000\n",
            "Epoch 1700/2000, W : 65.298, b : 136.382, Cost : 0.000000\n",
            "Epoch 1750/2000, W : 65.298, b : 136.382, Cost : 0.000000\n",
            "Epoch 1800/2000, W : 65.298, b : 136.382, Cost : 0.000000\n",
            "Epoch 1850/2000, W : 65.298, b : 136.382, Cost : 0.000000\n",
            "Epoch 1900/2000, W : 65.298, b : 136.382, Cost : 0.000000\n",
            "Epoch 1950/2000, W : 65.298, b : 136.382, Cost : 0.000000\n",
            "Epoch 2000/2000, W : 65.298, b : 136.382, Cost : 0.000000\n"
          ],
          "name": "stdout"
        }
      ]
    },
    {
      "cell_type": "code",
      "metadata": {
        "id": "T5qM86s3-BXM"
      },
      "source": [
        ""
      ],
      "execution_count": null,
      "outputs": []
    }
  ]
}