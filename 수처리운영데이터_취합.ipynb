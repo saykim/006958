{
  "nbformat": 4,
  "nbformat_minor": 0,
  "metadata": {
    "colab": {
      "name": "수처리운영데이터_취합.ipynb",
      "provenance": [],
      "include_colab_link": true
    },
    "kernelspec": {
      "name": "python3",
      "display_name": "Python 3"
    }
  },
  "cells": [
    {
      "cell_type": "markdown",
      "metadata": {
        "id": "view-in-github",
        "colab_type": "text"
      },
      "source": [
        "<a href=\"https://colab.research.google.com/github/saykim/006958/blob/master/%EC%88%98%EC%B2%98%EB%A6%AC%EC%9A%B4%EC%98%81%EB%8D%B0%EC%9D%B4%ED%84%B0_%EC%B7%A8%ED%95%A9.ipynb\" target=\"_parent\"><img src=\"https://colab.research.google.com/assets/colab-badge.svg\" alt=\"Open In Colab\"/></a>"
      ]
    },
    {
      "cell_type": "code",
      "metadata": {
        "id": "zDTGEKl2HvcJ",
        "colab_type": "code",
        "colab": {}
      },
      "source": [
        "import pandas as pd\n",
        "import numpy as np\n",
        "import os\n",
        "import xlrd\n",
        "import glob\n",
        "#-*- coding:utf-8 -*-"
      ],
      "execution_count": 0,
      "outputs": []
    },
    {
      "cell_type": "code",
      "metadata": {
        "id": "KELTCeqtH1ib",
        "colab_type": "code",
        "colab": {}
      },
      "source": [
        "#폴더 내 파일리스트 추출\n",
        "#실제로 CSV파일이나, XLS로 되어 있음 참고 필요\n",
        "list =[]\n",
        "for filename in os.listdir():\n",
        "    if filename[-3:] == 'xls':\n",
        "        list.append(filename) \n",
        " \n",
        "list #제대로 리스트가 만들어졌는지 확인"
      ],
      "execution_count": 0,
      "outputs": []
    },
    {
      "cell_type": "code",
      "metadata": {
        "id": "FAnnx_rIH8Xq",
        "colab_type": "code",
        "colab": {}
      },
      "source": [
        "#파일 일괄합치기\n",
        "\n",
        "dfs=[]\n",
        "for i in list:\n",
        "    df = pd.read_csv(i, encoding='euc-kr', sep='\\t', index_col=None)\n",
        "    dfs.append(df)\n",
        "tdf = pd.concat(dfs, sort=False)"
      ],
      "execution_count": 0,
      "outputs": []
    },
    {
      "cell_type": "code",
      "metadata": {
        "id": "_esBFQhLJFh9",
        "colab_type": "code",
        "colab": {}
      },
      "source": [
        "tdf['시각'] = pd.to_datetime(tdf['시각'])  #시각정보 시간정보로 변경\n",
        "tdf = tdf.set_index('시각')                #인덱스 시간정보로 수정"
      ],
      "execution_count": 0,
      "outputs": []
    },
    {
      "cell_type": "markdown",
      "metadata": {
        "id": "SIH8QFEmJOzd",
        "colab_type": "text"
      },
      "source": [
        ""
      ]
    },
    {
      "cell_type": "code",
      "metadata": {
        "id": "fzJbCA1RJUJk",
        "colab_type": "code",
        "colab": {}
      },
      "source": [
        "tdf_1h = tdf.resample(rule='h').median() #1시간 단위 중간값\n",
        "tdf_1h.to_excel('tdf.xlsx') #엑셀로 추출"
      ],
      "execution_count": 0,
      "outputs": []
    },
    {
      "cell_type": "markdown",
      "metadata": {
        "id": "0OU_eL-wcz73",
        "colab_type": "text"
      },
      "source": [
        "# RO변환"
      ]
    },
    {
      "cell_type": "code",
      "metadata": {
        "id": "hHud-KbGcwAK",
        "colab_type": "code",
        "colab": {}
      },
      "source": [
        "tdf_ro = tdf[[\"RCS.AIT101.PV_AI\",\n",
        "              \"RCS.AIT204B.PV_AI\",\n",
        "              \"RCS.TIT201.PV_AI\",\n",
        "              \"주처리.AIE304A.PV_AI\",\n",
        "              \"주처리.AIE304B.PV_AI\",\n",
        "              \"주처리.AIE304C.PV_AI\",\n",
        "              \"주처리.AIE304D.PV_AI\",\n",
        "              \"주처리.AIE304E.PV_AI\",\n",
        "              \"주처리.AIE304F.PV_AI\",\n",
        "              \"주처리.FIT314A.PV_AI\",\n",
        "              \"주처리.FIT314B.PV_AI\",\n",
        "              \"주처리.FIT324A.PV_AI\",\n",
        "              \"주처리.FIT324B.PV_AI\",\n",
        "              \"주처리.FIT334A.PV_AI\",\n",
        "              \"주처리.FIT334B.PV_AI\",\n",
        "              \"주처리.FIT344A.PV_AI\",\n",
        "              \"주처리.FIT344B.PV_AI\",\n",
        "              \"주처리.FIT354A.PV_AI\",\n",
        "              \"주처리.FIT354B.PV_AI\",\n",
        "              \"주처리.FIT364A.PV_AI\",\n",
        "              \"주처리.FIT364B.PV_AI\",\n",
        "              \"주처리.PIT314A.PV_AI\",\n",
        "              \"주처리.PIT314B.PV_AI\",\n",
        "              \"주처리.PIT314C.PV_AI\",\n",
        "              \"주처리.PIT324A.PV_AI\",\n",
        "              \"주처리.PIT324B.PV_AI\",\n",
        "              \"주처리.PIT324C.PV_AI\",\n",
        "              \"주처리.PIT334A.PV_AI\",\n",
        "              \"주처리.PIT334B.PV_AI\",\n",
        "              \"주처리.PIT334C.PV_AI\",\n",
        "              \"주처리.PIT344A.PV_AI\",\n",
        "              \"주처리.PIT344B.PV_AI\",\n",
        "              \"주처리.PIT344C.PV_AI\",\n",
        "              \"주처리.PIT354A.PV_AI\",\n",
        "              \"주처리.PIT354B.PV_AI\",\n",
        "              \"주처리.PIT354C.PV_AI\",\n",
        "              \"주처리.PIT364A.PV_AI\",\n",
        "              \"주처리.PIT364B.PV_AI\",\n",
        "              \"주처리.PIT364C.PV_AI\",\n",
        "]]"
      ],
      "execution_count": 0,
      "outputs": []
    },
    {
      "cell_type": "code",
      "metadata": {
        "id": "Zf1MrBAKc4Zf",
        "colab_type": "code",
        "colab": {}
      },
      "source": [
        "tdf_ro = tdf_ro.rename(columns={\"RCS.AIT101.PV_AI\":\"증설탁도\",\n",
        "                                \"RCS.AIT204B.PV_AI\":\"전처리수SDI\",\n",
        "                                \"RCS.TIT201.PV_AI\":\"원수저류조후단온도계\",\n",
        "                                \"주처리.AIE304A.PV_AI\":\"A전도도\",\n",
        "                                \"주처리.AIE304B.PV_AI\":\"B전도도\",\n",
        "                                \"주처리.AIE304C.PV_AI\":\"C전도도\",\n",
        "                                \"주처리.AIE304D.PV_AI\":\"D전도도\",\n",
        "                                \"주처리.AIE304E.PV_AI\":\"E전도도\",\n",
        "                                \"주처리.AIE304F.PV_AI\":\"F전도도\",\n",
        "                                \"주처리.FIT314A.PV_AI\":\"A생산량\",\n",
        "                                \"주처리.FIT314B.PV_AI\":\"A농축수량\",\n",
        "                                \"주처리.FIT324A.PV_AI\":\"B생산량\",\n",
        "                                \"주처리.FIT324B.PV_AI\":\"B농축수량\",\n",
        "                                \"주처리.FIT334A.PV_AI\":\"C생산량\",\n",
        "                                \"주처리.FIT334B.PV_AI\":\"C농축수량\",\n",
        "                                \"주처리.FIT344A.PV_AI\":\"D생산량\",\n",
        "                                \"주처리.FIT344B.PV_AI\":\"D농축수량\",\n",
        "                                \"주처리.FIT354A.PV_AI\":\"E생산량\",\n",
        "                                \"주처리.FIT354B.PV_AI\":\"E농축수량\",\n",
        "                                \"주처리.FIT364A.PV_AI\":\"F생산량\",\n",
        "                                \"주처리.FIT364B.PV_AI\":\"F농축수량\",\n",
        "                                \"주처리.PIT314A.PV_AI\":\"A유입압\",\n",
        "                                \"주처리.PIT314B.PV_AI\":\"A생산압\",\n",
        "                                \"주처리.PIT314C.PV_AI\":\"A농축압\",\n",
        "                                \"주처리.PIT324A.PV_AI\":\"B유입압\",\n",
        "                                \"주처리.PIT324B.PV_AI\":\"B생산압\",\n",
        "                                \"주처리.PIT324C.PV_AI\":\"B농축압\",\n",
        "                                \"주처리.PIT334A.PV_AI\":\"C유입압\",\n",
        "                                \"주처리.PIT334B.PV_AI\":\"C생산압\",\n",
        "                                \"주처리.PIT334C.PV_AI\":\"C농축압\",\n",
        "                                \"주처리.PIT344A.PV_AI\":\"D유입압\",\n",
        "                                \"주처리.PIT344B.PV_AI\":\"D생산압\",\n",
        "                                \"주처리.PIT344C.PV_AI\":\"D농축압\",\n",
        "                                \"주처리.PIT354A.PV_AI\":\"E유입압\",\n",
        "                                \"주처리.PIT354B.PV_AI\":\"E생산압\",\n",
        "                                \"주처리.PIT354C.PV_AI\":\"E농축압\",\n",
        "                                \"주처리.PIT364A.PV_AI\":\"F유입압\",\n",
        "                                \"주처리.PIT364B.PV_AI\":\"F생산압\",\n",
        "                                \"주처리.PIT364C.PV_AI\":\"F농축압\"\n",
        "})"
      ],
      "execution_count": 0,
      "outputs": []
    },
    {
      "cell_type": "code",
      "metadata": {
        "id": "x-DYI2tH6Hiy",
        "colab_type": "code",
        "colab": {}
      },
      "source": [
        "tdf_ro.head()"
      ],
      "execution_count": 0,
      "outputs": []
    },
    {
      "cell_type": "code",
      "metadata": {
        "id": "R9fkNjB_6H2S",
        "colab_type": "code",
        "colab": {}
      },
      "source": [
        "#유입량 추출\n",
        "tdf_ro['A유입량'] = tdf_ro['A생산량'] - tdf_ro['A농축수량']\n",
        "tdf_ro['B유입량'] = tdf_ro['B생산량'] - tdf_ro['B농축수량']\n",
        "tdf_ro['C유입량'] = tdf_ro['C생산량'] - tdf_ro['C농축수량']\n",
        "tdf_ro['D유입량'] = tdf_ro['D생산량'] - tdf_ro['D농축수량']\n",
        "tdf_ro['E유입량'] = tdf_ro['E생산량'] - tdf_ro['E농축수량']\n",
        "tdf_ro['F유입량'] = tdf_ro['F생산량'] - tdf_ro['F농축수량']\n",
        "\n",
        "\n",
        "#차압 추출\n",
        "tdf_ro['A차압'] = tdf_ro['A유입압'] - tdf_ro['A농축압']\n",
        "tdf_ro['B차압'] = tdf_ro['B유입압'] - tdf_ro['B농축압']\n",
        "tdf_ro['C차압'] = tdf_ro['C유입압'] - tdf_ro['C농축압']\n",
        "tdf_ro['D차압'] = tdf_ro['D유입압'] - tdf_ro['D농축압']\n",
        "tdf_ro['E차압'] = tdf_ro['E유입압'] - tdf_ro['E농축압']\n",
        "tdf_ro['F차압'] = tdf_ro['F유입압'] - tdf_ro['F농축압']"
      ],
      "execution_count": 0,
      "outputs": []
    },
    {
      "cell_type": "code",
      "metadata": {
        "id": "8Y0OjyMtc7ws",
        "colab_type": "code",
        "colab": {}
      },
      "source": [
        "ro = tdf_ro.resample(rule='1h').median()\n",
        "ro.to_excel('RO_전처리_0923_0929.xlsx')"
      ],
      "execution_count": 0,
      "outputs": []
    },
    {
      "cell_type": "markdown",
      "metadata": {
        "id": "8zGU7pAAc-5L",
        "colab_type": "text"
      },
      "source": [
        "# AF 전처리"
      ]
    },
    {
      "cell_type": "code",
      "metadata": {
        "id": "5qFozJRPc-Ic",
        "colab_type": "code",
        "colab": {}
      },
      "source": [
        "tdf_af = tdf[[\"스트레이너.PIT203A1.PV_AI\",\n",
        "              \"스트레이너.PIT203A2.PV_AI\",\n",
        "              \"스트레이너.PIT203B1.PV_AI\",\n",
        "              \"스트레이너.PIT203B2.PV_AI\",\n",
        "              \"스트레이너.PIT203C1.PV_AI\",\n",
        "              \"스트레이너.PIT203C2.PV_AI\",\n",
        "              \"스트레이너.PIT203D1.PV_AI\",\n",
        "              \"스트레이너.PIT203D2.PV_AI\",\n",
        "              \"전처리.FIT204A.PVAI\",\n",
        "              \"전처리.FIT204C.PVAI\",\n",
        "              \"전처리.FIT204E.PVAI\",\n",
        "              \"전처리.FIT204G.PVAI\"\n",
        "]]"
      ],
      "execution_count": 0,
      "outputs": []
    },
    {
      "cell_type": "code",
      "metadata": {
        "id": "4AiOvWnfdCg8",
        "colab_type": "code",
        "colab": {}
      },
      "source": [
        "tdf_af = tdf_af.rename(columns={\"스트레이너.PIT203A1.PV_AI\":\"A/F A_in\",\n",
        "                                \"스트레이너.PIT203A2.PV_AI\":\"A/F A_out\",\n",
        "                                \"스트레이너.PIT203B1.PV_AI\":\"A/F B_in\",\n",
        "                                \"스트레이너.PIT203B2.PV_AI\":\"A/F B_out\",\n",
        "                                \"스트레이너.PIT203C1.PV_AI\":\"A/F C_in\",\n",
        "                                \"스트레이너.PIT203C2.PV_AI\":\"A/F C_out\",\n",
        "                                \"스트레이너.PIT203D1.PV_AI\":\"A/F D_in\",\n",
        "                                \"스트레이너.PIT203D2.PV_AI\":\"A/F D_out\",\n",
        "                                \"전처리.FIT204A.PVAI\":\"전처리.FIT204A.PVAI\",\n",
        "                                \"전처리.FIT204C.PVAI\":\"전처리.FIT204C.PVAI\",\n",
        "                                \"전처리.FIT204E.PVAI\":\"전처리.FIT204E.PVAI\",\n",
        "                                \"전처리.FIT204G.PVAI\":\"전처리.FIT204G.PVAI\",\n",
        "})"
      ],
      "execution_count": 0,
      "outputs": []
    },
    {
      "cell_type": "code",
      "metadata": {
        "id": "92AMAbye6eGT",
        "colab_type": "code",
        "colab": {}
      },
      "source": [
        "tdf_af['A/F_A_DP'] = tdf_af['A/F A_in'] - tdf_af['A/F A_out']\n",
        "tdf_af['A/F_B_DP'] = tdf_af['A/F B_in'] - tdf_af['A/F B_out']\n",
        "tdf_af['A/F_C_DP'] = tdf_af['A/F C_in'] - tdf_af['A/F C_out']\n",
        "tdf_af['A/F_D_DP'] = tdf_af['A/F D_in'] - tdf_af['A/F D_out']"
      ],
      "execution_count": 0,
      "outputs": []
    },
    {
      "cell_type": "code",
      "metadata": {
        "id": "1Uo_s9OU6f2D",
        "colab_type": "code",
        "colab": {}
      },
      "source": [
        "tdf_af = tdf[[\"A/F A_in\",\n",
        "            \"A/F A_out\",\n",
        "            \"A/F B_in\",\n",
        "            \"A/F B_out\",\n",
        "            \"A/F C_in\",\n",
        "            \"A/F C_out\",\n",
        "            \"A/F D_in\",\n",
        "            \"A/F D_out\",\n",
        "            \"A/F_A_DP\",\n",
        "            \"A/F_B_DP\",\n",
        "            \"A/F_C_DP\",\n",
        "            \"A/F_D_DP\",\n",
        "            \"전처리.FIT204A.PVAI\",\n",
        "            \"전처리.FIT204C.PVAI\",\n",
        "            \"전처리.FIT204E.PVAI\",\n",
        "            \"전처리.FIT204G.PVAI\"\n",
        "]]"
      ],
      "execution_count": 0,
      "outputs": []
    },
    {
      "cell_type": "code",
      "metadata": {
        "id": "jOBxkWh7dFcr",
        "colab_type": "code",
        "colab": {}
      },
      "source": [
        "af = tdf_af.resample(rule='30min').median()\n",
        "af.to_excel('data_0923_0929_strainer_30min_median.xlsx')"
      ],
      "execution_count": 0,
      "outputs": []
    },
    {
      "cell_type": "markdown",
      "metadata": {
        "id": "FNeuyGszdIAM",
        "colab_type": "text"
      },
      "source": [
        "# 농축폐수"
      ]
    },
    {
      "cell_type": "code",
      "metadata": {
        "id": "iR16aMZmdGnb",
        "colab_type": "code",
        "colab": {}
      },
      "source": [
        "tdf_ndw = tdf[[\"농축폐수.압력.PT801D.PV\",\n",
        "                \"농축폐수.압력.PT801C.PV\",\n",
        "                \"농축폐수.압력.PT801B.PV\",\n",
        "                \"농축폐수.압력.PT801A.PV\",\n",
        "                \"농축폐수.압력.PT701D.PV\",\n",
        "                \"농축폐수.압력.PT701C.PV\",\n",
        "                \"농축폐수.압력.PT701B.PV\",\n",
        "                \"농축폐수.압력.PT701A.PV\"\n",
        "]]"
      ],
      "execution_count": 0,
      "outputs": []
    },
    {
      "cell_type": "code",
      "metadata": {
        "id": "hxoG3P7SdLiy",
        "colab_type": "code",
        "colab": {}
      },
      "source": [
        "tdf_ndw = tdf_ndw.rename(columns={\"농축폐수.압력.PT801D.PV\":\"질산화조#4\",\n",
        "                                  \"농축폐수.압력.PT801C.PV\":\"질산화조#3\",\n",
        "                                  \"농축폐수.압력.PT801B.PV\":\"질산화조#2\",\n",
        "                                  \"농축폐수.압력.PT801A.PV\":\"질산화조#1\",\n",
        "                                  \"농축폐수.압력.PT701D.PV\":\"탈질조#4\",\n",
        "                                  \"농축폐수.압력.PT701C.PV\":\"탈질조#3\",\n",
        "                                  \"농축폐수.압력.PT701B.PV\":\"탈질조#2\",\n",
        "                                  \"농축폐수.압력.PT701A.PV\":\"탈질조#1\"\n",
        "})"
      ],
      "execution_count": 0,
      "outputs": []
    },
    {
      "cell_type": "code",
      "metadata": {
        "id": "t1oV245rdQuI",
        "colab_type": "code",
        "colab": {}
      },
      "source": [
        "ndw = tdf_ndw.resample(rule='1h').median()\n",
        "ndw.to_excel('농축폐수_0923_0929_1h.xlsx')"
      ],
      "execution_count": 0,
      "outputs": []
    },
    {
      "cell_type": "markdown",
      "metadata": {
        "id": "Yb42E2CMdOCm",
        "colab_type": "text"
      },
      "source": [
        "# 전체 유입량"
      ]
    },
    {
      "cell_type": "code",
      "metadata": {
        "id": "AHFqgbutdPp1",
        "colab_type": "code",
        "colab": {}
      },
      "source": [
        "tdf_volume = tdf[[\"RCS.FIT101A.적산값\",\n",
        "                  \"RCS.FIT101B.적산값\",\n",
        "                  \"RCS.FIT101C.적산값\"\n",
        "]]"
      ],
      "execution_count": 0,
      "outputs": []
    },
    {
      "cell_type": "code",
      "metadata": {
        "id": "__OZuMg7dT06",
        "colab_type": "code",
        "colab": {
          "base_uri": "https://localhost:8080/",
          "height": 226
        },
        "outputId": "c2e6b2f1-7740-4caf-ab36-87a4f6aa5907"
      },
      "source": [
        "tdf_volume = tdf_volume.rename(columns={\"RCS.FIT101A.적산값\":\"금촌기존\",\n",
        "                                        \"RCS.FIT101B.적산값\":\"금촌증설\",\n",
        "                                        \"RCS.FIT101C.적산값\":\"운정\"\n",
        "})"
      ],
      "execution_count": 1,
      "outputs": [
        {
          "output_type": "error",
          "ename": "NameError",
          "evalue": "ignored",
          "traceback": [
            "\u001b[0;31m---------------------------------------------------------------------------\u001b[0m",
            "\u001b[0;31mNameError\u001b[0m                                 Traceback (most recent call last)",
            "\u001b[0;32m<ipython-input-1-5f080dd105b3>\u001b[0m in \u001b[0;36m<module>\u001b[0;34m()\u001b[0m\n\u001b[0;32m----> 1\u001b[0;31m tdf_volume = tdf_volume.rename(columns={\"RCS.FIT101A.적산값\":\"금촌기존\",\n\u001b[0m\u001b[1;32m      2\u001b[0m \u001b[0;34m\"RCS.FIT101B.적산값\"\u001b[0m\u001b[0;34m:\u001b[0m\u001b[0;34m\"금촌증설\"\u001b[0m\u001b[0;34m,\u001b[0m\u001b[0;34m\u001b[0m\u001b[0;34m\u001b[0m\u001b[0m\n\u001b[1;32m      3\u001b[0m \u001b[0;34m\"RCS.FIT101C.적산값\"\u001b[0m\u001b[0;34m:\u001b[0m\u001b[0;34m\"운정\"\u001b[0m\u001b[0;34m\u001b[0m\u001b[0;34m\u001b[0m\u001b[0m\n\u001b[1;32m      4\u001b[0m })\n",
            "\u001b[0;31mNameError\u001b[0m: name 'tdf_volume' is not defined"
          ]
        }
      ]
    },
    {
      "cell_type": "code",
      "metadata": {
        "id": "SH4EktRjdVIC",
        "colab_type": "code",
        "colab": {}
      },
      "source": [
        "volume = tdf_volume.resample(rule='d').agg(['min', 'max'])\n",
        "volume.to_excel(\"df_total_0923_0929_volume.xlsx\")"
      ],
      "execution_count": 0,
      "outputs": []
    }
  ]
}