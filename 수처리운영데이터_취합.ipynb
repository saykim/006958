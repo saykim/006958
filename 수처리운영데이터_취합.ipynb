{
  "nbformat": 4,
  "nbformat_minor": 0,
  "metadata": {
    "colab": {
      "name": "수처리운영데이터_취합.ipynb",
      "provenance": [],
      "include_colab_link": true
    },
    "kernelspec": {
      "name": "python3",
      "display_name": "Python 3"
    }
  },
  "cells": [
    {
      "cell_type": "markdown",
      "metadata": {
        "id": "view-in-github",
        "colab_type": "text"
      },
      "source": [
        "<a href=\"https://colab.research.google.com/github/saykim/006958/blob/master/%EC%88%98%EC%B2%98%EB%A6%AC%EC%9A%B4%EC%98%81%EB%8D%B0%EC%9D%B4%ED%84%B0_%EC%B7%A8%ED%95%A9.ipynb\" target=\"_parent\"><img src=\"https://colab.research.google.com/assets/colab-badge.svg\" alt=\"Open In Colab\"/></a>"
      ]
    },
    {
      "cell_type": "code",
      "metadata": {
        "id": "zDTGEKl2HvcJ",
        "colab_type": "code",
        "colab": {}
      },
      "source": [
        "import pandas as pd\n",
        "import numpy as np\n",
        "import os\n",
        "import xlrd\n",
        "import glob\n",
        "#-*- coding:utf-8 -*-"
      ],
      "execution_count": 0,
      "outputs": []
    },
    {
      "cell_type": "code",
      "metadata": {
        "id": "KELTCeqtH1ib",
        "colab_type": "code",
        "colab": {}
      },
      "source": [
        "list =[]\n",
        "for filename in os.listdir():\n",
        "    if filename[-3:] == 'xls':\n",
        "        list.append(filename) \n",
        " \n",
        "list #제대로 리스트가 만들어졌는지 확인"
      ],
      "execution_count": 0,
      "outputs": []
    },
    {
      "cell_type": "code",
      "metadata": {
        "id": "FAnnx_rIH8Xq",
        "colab_type": "code",
        "colab": {}
      },
      "source": [
        "#파일 일괄합치기\n",
        "\n",
        "dfs=[]\n",
        "for i in list:\n",
        "    df = pd.read_csv(i, encoding='euc-kr', sep='\\t', index_col=None)\n",
        "    dfs.append(df)\n",
        "tdf = pd.concat(dfs, sort=False)"
      ],
      "execution_count": 0,
      "outputs": []
    },
    {
      "cell_type": "code",
      "metadata": {
        "id": "_esBFQhLJFh9",
        "colab_type": "code",
        "colab": {}
      },
      "source": [
        "tdf['시각'] = pd.to_datetime(tdf['시각'])  #시각정보 시간정보로 변경\n",
        "tdf = tdf.set_index('시각')                #인덱스 시간정보로 수정"
      ],
      "execution_count": 0,
      "outputs": []
    },
    {
      "cell_type": "markdown",
      "metadata": {
        "id": "SIH8QFEmJOzd",
        "colab_type": "text"
      },
      "source": [
        ""
      ]
    },
    {
      "cell_type": "code",
      "metadata": {
        "id": "fzJbCA1RJUJk",
        "colab_type": "code",
        "colab": {}
      },
      "source": [
        "tdf_1h = tdf.resample(rule='h').median() #1시간 단위 중간값\n",
        "tdf_1h.to_excel('tdf.xlsx') #엑셀로 추출"
      ],
      "execution_count": 0,
      "outputs": []
    }
  ]
}