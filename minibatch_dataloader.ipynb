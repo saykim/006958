{
  "nbformat": 4,
  "nbformat_minor": 0,
  "metadata": {
    "colab": {
      "name": "minibatch_dataloader.ipynb",
      "provenance": [],
      "collapsed_sections": [],
      "authorship_tag": "ABX9TyM+0s4yq43fTqLZ87wrSAsT",
      "include_colab_link": true
    },
    "kernelspec": {
      "name": "python3",
      "display_name": "Python 3"
    },
    "language_info": {
      "name": "python"
    },
    "accelerator": "GPU"
  },
  "cells": [
    {
      "cell_type": "markdown",
      "metadata": {
        "id": "view-in-github",
        "colab_type": "text"
      },
      "source": [
        "<a href=\"https://colab.research.google.com/github/saykim/006958/blob/master/minibatch_dataloader.ipynb\" target=\"_parent\"><img src=\"https://colab.research.google.com/assets/colab-badge.svg\" alt=\"Open In Colab\"/></a>"
      ]
    },
    {
      "cell_type": "code",
      "metadata": {
        "id": "InM7N8yqs6nB"
      },
      "source": [
        "import torch\n",
        "import torch.nn as nn\n",
        "import torch.nn.functional as F\n",
        "import torch.optim as optim\n",
        "\n",
        "from sklearn import datasets\n",
        "from sklearn.preprocessing import StandardScaler\n",
        "from sklearn.model_selection import train_test_split\n",
        "\n",
        "import numpy as np"
      ],
      "execution_count": 1,
      "outputs": []
    },
    {
      "cell_type": "code",
      "metadata": {
        "id": "Zy2mpJrHtIND"
      },
      "source": [
        "device = 'cuda' if torch.cuda.is_available() else 'cpu'"
      ],
      "execution_count": 2,
      "outputs": []
    },
    {
      "cell_type": "code",
      "metadata": {
        "id": "KSSIjKWetLEg"
      },
      "source": [
        "from torch.utils.data import TensorDataset\n",
        "from torch.utils.data import DataLoader"
      ],
      "execution_count": 3,
      "outputs": []
    },
    {
      "cell_type": "code",
      "metadata": {
        "id": "H7ND6qmRtZkW"
      },
      "source": [
        "boston = datasets.load_boston()\n",
        "\n",
        "x = boston.data\n",
        "y = boston.target"
      ],
      "execution_count": 4,
      "outputs": []
    },
    {
      "cell_type": "code",
      "metadata": {
        "colab": {
          "base_uri": "https://localhost:8080/"
        },
        "id": "iHIjCpAotjze",
        "outputId": "b1ade2b3-7edc-4827-e212-66de29c36a0d"
      },
      "source": [
        "torch.manual_seed(1)"
      ],
      "execution_count": 5,
      "outputs": [
        {
          "output_type": "execute_result",
          "data": {
            "text/plain": [
              "<torch._C.Generator at 0x7fcb50a41b10>"
            ]
          },
          "metadata": {
            "tags": []
          },
          "execution_count": 5
        }
      ]
    },
    {
      "cell_type": "code",
      "metadata": {
        "id": "NXhBrCk8toaW"
      },
      "source": [
        "x_train, x_test, y_train, y_test = train_test_split(x,y, test_size=.2, random_state=42)"
      ],
      "execution_count": 6,
      "outputs": []
    },
    {
      "cell_type": "code",
      "metadata": {
        "id": "yhBtBpbpt0rQ"
      },
      "source": [
        "sc = StandardScaler()"
      ],
      "execution_count": 7,
      "outputs": []
    },
    {
      "cell_type": "code",
      "metadata": {
        "id": "_RQliDzGt6tu"
      },
      "source": [
        "x_train = sc.fit_transform(x_train)\n",
        "x_test = sc.transform(x_test)"
      ],
      "execution_count": 8,
      "outputs": []
    },
    {
      "cell_type": "code",
      "metadata": {
        "id": "vZOYdpNkt_nC"
      },
      "source": [
        "x_train = torch.FloatTensor(x_train).to(device) #GPU 계산할때 잊지 말것!!\n",
        "y_train = torch.FloatTensor(y_train).to(device) #GPU 계산할때 잊지 말것!!\n",
        "x_test = torch.FloatTensor(x_test).to(device) #GPU 계산할때 잊지 말것!!\n",
        "y_test = torch.FloatTensor(y_test).to(device) #GPU 계산할때 잊지 말것!!"
      ],
      "execution_count": 9,
      "outputs": []
    },
    {
      "cell_type": "code",
      "metadata": {
        "id": "Jf5uYRQSuSST"
      },
      "source": [
        "y_train = y_train.view(-1,1)\n",
        "y_test = y_test.view(-1,1)"
      ],
      "execution_count": 63,
      "outputs": []
    },
    {
      "cell_type": "code",
      "metadata": {
        "colab": {
          "base_uri": "https://localhost:8080/"
        },
        "id": "b6beiMDauZOc",
        "outputId": "2c1f6dff-0a86-43e4-b425-4aae7327bc6c"
      },
      "source": [
        "x_train"
      ],
      "execution_count": 11,
      "outputs": [
        {
          "output_type": "execute_result",
          "data": {
            "text/plain": [
              "tensor([[ 1.2877, -0.5003,  1.0332,  ...,  0.8453, -0.0743,  1.7535],\n",
              "        [-0.3364, -0.5003, -0.4132,  ...,  1.2047,  0.4302, -0.5615],\n",
              "        [-0.4033,  1.0133, -0.7152,  ..., -0.6372,  0.0653, -0.6516],\n",
              "        ...,\n",
              "        [-0.4055,  2.9593, -1.3034,  ..., -0.5923,  0.3790, -0.9107],\n",
              "        [ 0.8519, -0.5003,  1.0332,  ...,  0.8453, -2.6946,  1.5226],\n",
              "        [-0.3814, -0.5003, -0.3522,  ...,  1.1598, -3.1216, -0.2573]],\n",
              "       device='cuda:0')"
            ]
          },
          "metadata": {
            "tags": []
          },
          "execution_count": 11
        }
      ]
    },
    {
      "cell_type": "code",
      "metadata": {
        "colab": {
          "base_uri": "https://localhost:8080/"
        },
        "id": "wx0q-_E8uaem",
        "outputId": "d3a4bdf5-9308-4748-a8b1-fda40d5c96ef"
      },
      "source": [
        "#dataset\n",
        "dataset = TensorDataset(x_train, y_train)\n",
        "dataset"
      ],
      "execution_count": 64,
      "outputs": [
        {
          "output_type": "execute_result",
          "data": {
            "text/plain": [
              "<torch.utils.data.dataset.TensorDataset at 0x7fcb3976bb50>"
            ]
          },
          "metadata": {
            "tags": []
          },
          "execution_count": 64
        }
      ]
    },
    {
      "cell_type": "code",
      "metadata": {
        "colab": {
          "base_uri": "https://localhost:8080/"
        },
        "id": "AaNADrYCuhx7",
        "outputId": "7cabcf8b-6302-418c-8479-9848f06d0973"
      },
      "source": [
        "type(dataset)"
      ],
      "execution_count": 65,
      "outputs": [
        {
          "output_type": "execute_result",
          "data": {
            "text/plain": [
              "torch.utils.data.dataset.TensorDataset"
            ]
          },
          "metadata": {
            "tags": []
          },
          "execution_count": 65
        }
      ]
    },
    {
      "cell_type": "code",
      "metadata": {
        "id": "kun2WToRukdf"
      },
      "source": [
        "#dataloader\n",
        "dataloader = DataLoader(dataset, batch_size=4, shuffle=True)"
      ],
      "execution_count": 66,
      "outputs": []
    },
    {
      "cell_type": "code",
      "metadata": {
        "id": "yiHatijQu1Rr"
      },
      "source": [
        "class LR_batch_model(nn.Module):\n",
        "    def __init__(self):\n",
        "        super().__init__()\n",
        "        self.linear = nn.Linear(13,1)\n",
        "\n",
        "    def forward(self,x):\n",
        "        return self.linear(x) \n"
      ],
      "execution_count": 67,
      "outputs": []
    },
    {
      "cell_type": "code",
      "metadata": {
        "id": "Ovihf64CwL62"
      },
      "source": [
        "model = LR_batch_model().to(device) #GPU 계산할때 잊지 말것!!\n",
        "optimizer = optim.Adam(model.parameters(), lr=0.001)"
      ],
      "execution_count": 78,
      "outputs": []
    },
    {
      "cell_type": "code",
      "metadata": {
        "colab": {
          "base_uri": "https://localhost:8080/"
        },
        "id": "8kP8_7u0vcbS",
        "outputId": "b16a8186-3402-4118-fd15-56987dbaa72a"
      },
      "source": [
        "print(list(model.parameters()))"
      ],
      "execution_count": 79,
      "outputs": [
        {
          "output_type": "stream",
          "text": [
            "[Parameter containing:\n",
            "tensor([[ 0.2753,  0.0393, -0.1892,  0.1874,  0.0469, -0.0879, -0.1967, -0.1174,\n",
            "          0.0164, -0.1025, -0.2176, -0.2751, -0.0039]], device='cuda:0',\n",
            "       requires_grad=True), Parameter containing:\n",
            "tensor([0.2683], device='cuda:0', requires_grad=True)]\n"
          ],
          "name": "stdout"
        }
      ]
    },
    {
      "cell_type": "code",
      "metadata": {
        "colab": {
          "base_uri": "https://localhost:8080/"
        },
        "id": "ka_rCmfjwsoU",
        "outputId": "ac7b97a4-3044-4acf-b8e4-7ab82e926243"
      },
      "source": [
        "n_epochs = 10000\n",
        "\n",
        "for epoch in range(n_epochs+1):\n",
        "    for batch_idx, samples in enumerate(dataloader):\n",
        "        x_train, y_train = samples\n",
        "        pred = model(x_train)\n",
        "\n",
        "        cost = F.mse_loss(pred, y_train)\n",
        "\n",
        "        optimizer.zero_grad()\n",
        "        cost.backward()\n",
        "        optimizer.step()\n",
        "    if epoch % 1000 == 0:\n",
        "        print('Epoch {:4d}/{} Batch {}/{} Cost: {:.6f}'.format(\n",
        "            epoch, n_epochs, batch_idx+1, len(dataloader),\n",
        "            cost.item()))\n"
      ],
      "execution_count": 80,
      "outputs": [
        {
          "output_type": "stream",
          "text": [
            "Epoch    0/10000 Batch 1/1 Cost: 365.474182\n",
            "Epoch 1000/10000 Batch 1/1 Cost: 221.506393\n",
            "Epoch 2000/10000 Batch 1/1 Cost: 125.731323\n",
            "Epoch 3000/10000 Batch 1/1 Cost: 63.473728\n",
            "Epoch 4000/10000 Batch 1/1 Cost: 26.814697\n",
            "Epoch 5000/10000 Batch 1/1 Cost: 8.910526\n",
            "Epoch 6000/10000 Batch 1/1 Cost: 2.682580\n",
            "Epoch 7000/10000 Batch 1/1 Cost: 1.390353\n",
            "Epoch 8000/10000 Batch 1/1 Cost: 1.040653\n",
            "Epoch 9000/10000 Batch 1/1 Cost: 0.709247\n",
            "Epoch 10000/10000 Batch 1/1 Cost: 0.397974\n"
          ],
          "name": "stdout"
        }
      ]
    },
    {
      "cell_type": "code",
      "metadata": {
        "id": "tUFna_xG2Imt"
      },
      "source": [
        "pred_y_test = model(x_test)"
      ],
      "execution_count": 81,
      "outputs": []
    },
    {
      "cell_type": "code",
      "metadata": {
        "colab": {
          "base_uri": "https://localhost:8080/"
        },
        "id": "waeCd5Xh2tKe",
        "outputId": "57c665b7-fe68-4756-a14d-dee95b2ef99a"
      },
      "source": [
        "F.mse_loss(pred_y_test, y_test)"
      ],
      "execution_count": 84,
      "outputs": [
        {
          "output_type": "execute_result",
          "data": {
            "text/plain": [
              "tensor(589.3848, device='cuda:0', grad_fn=<MseLossBackward>)"
            ]
          },
          "metadata": {
            "tags": []
          },
          "execution_count": 84
        }
      ]
    },
    {
      "cell_type": "code",
      "metadata": {
        "id": "xsrC1qme2u-8"
      },
      "source": [
        ""
      ],
      "execution_count": null,
      "outputs": []
    }
  ]
}