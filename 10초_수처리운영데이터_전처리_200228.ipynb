{
  "nbformat": 4,
  "nbformat_minor": 0,
  "metadata": {
    "kernelspec": {
      "display_name": "Python 3",
      "language": "python",
      "name": "python3"
    },
    "language_info": {
      "codemirror_mode": {
        "name": "ipython",
        "version": 3
      },
      "file_extension": ".py",
      "mimetype": "text/x-python",
      "name": "python",
      "nbconvert_exporter": "python",
      "pygments_lexer": "ipython3",
      "version": "3.7.7"
    },
    "colab": {
      "name": "10초_수처리운영데이터 전처리_200228.ipynb",
      "provenance": [],
      "include_colab_link": true
    }
  },
  "cells": [
    {
      "cell_type": "markdown",
      "metadata": {
        "id": "view-in-github",
        "colab_type": "text"
      },
      "source": [
        "<a href=\"https://colab.research.google.com/github/saykim/006958/blob/master/10%EC%B4%88_%EC%88%98%EC%B2%98%EB%A6%AC%EC%9A%B4%EC%98%81%EB%8D%B0%EC%9D%B4%ED%84%B0_%EC%A0%84%EC%B2%98%EB%A6%AC_200228.ipynb\" target=\"_parent\"><img src=\"https://colab.research.google.com/assets/colab-badge.svg\" alt=\"Open In Colab\"/></a>"
      ]
    },
    {
      "cell_type": "code",
      "metadata": {
        "id": "gsFSE87eOBVC",
        "colab_type": "code",
        "colab": {}
      },
      "source": [
        "import pandas as pd\n",
        "import numpy as np\n",
        "import os\n",
        "import xlrd, xlsxwriter\n",
        "import glob"
      ],
      "execution_count": 0,
      "outputs": []
    },
    {
      "cell_type": "code",
      "metadata": {
        "id": "gyUAifmmOBVG",
        "colab_type": "code",
        "colab": {}
      },
      "source": [
        "#-*- coding:utf-8 -*-"
      ],
      "execution_count": 0,
      "outputs": []
    },
    {
      "cell_type": "code",
      "metadata": {
        "id": "Uianq7knOBVI",
        "colab_type": "code",
        "colab": {}
      },
      "source": [
        "list =[]\n",
        "for filename in os.listdir():\n",
        "    if filename[-3:] == 'xls':\n",
        "        list.append(filename) "
      ],
      "execution_count": 0,
      "outputs": []
    },
    {
      "cell_type": "code",
      "metadata": {
        "id": "v8FVj3Z_OBVL",
        "colab_type": "code",
        "colab": {},
        "outputId": "7e61ee93-d7cf-4823-f4ee-d9e87c091967"
      },
      "source": [
        "list"
      ],
      "execution_count": 0,
      "outputs": [
        {
          "output_type": "execute_result",
          "data": {
            "text/plain": [
              "['20200518.xls',\n",
              " '20200519.xls',\n",
              " '20200520.xls',\n",
              " '20200521.xls',\n",
              " '20200522.xls',\n",
              " '20200523.xls',\n",
              " '20200524.xls']"
            ]
          },
          "metadata": {
            "tags": []
          },
          "execution_count": 4
        }
      ]
    },
    {
      "cell_type": "code",
      "metadata": {
        "id": "uPMb9TZUOBVO",
        "colab_type": "code",
        "colab": {}
      },
      "source": [
        "#날짜를 파일명으로\n",
        "name1 = list[0][4:8]\n",
        "name2 = list[-1][4:8]"
      ],
      "execution_count": 0,
      "outputs": []
    },
    {
      "cell_type": "code",
      "metadata": {
        "id": "sFIIwYnbOBVQ",
        "colab_type": "code",
        "colab": {}
      },
      "source": [
        "dfs=[]\n",
        "for i in list:\n",
        "    df = pd.read_csv(i, encoding='euc-kr', sep='\\t', index_col=None)\n",
        "    dfs.append(df)\n",
        "tdf = pd.concat(dfs, sort=False)"
      ],
      "execution_count": 0,
      "outputs": []
    },
    {
      "cell_type": "code",
      "metadata": {
        "id": "gFEAJw8FOBVS",
        "colab_type": "code",
        "colab": {}
      },
      "source": [
        "tdf['시각'] = pd.to_datetime(tdf['시각'])\n",
        "tdf = tdf.set_index('시각')"
      ],
      "execution_count": 0,
      "outputs": []
    },
    {
      "cell_type": "markdown",
      "metadata": {
        "id": "-GHsC38gOBVV",
        "colab_type": "text"
      },
      "source": [
        "## UF 처리수 SDI_RO 유입수 10초 데이터"
      ]
    },
    {
      "cell_type": "code",
      "metadata": {
        "id": "9l-rQUSDOBVW",
        "colab_type": "code",
        "colab": {}
      },
      "source": [
        "tdf_uf_ro = tdf[[\"RCS10.AIT204B_UF처리수_SDI\",\n",
        "                 \"RCS10.AIT204B_RO유입수_SDI\"]]"
      ],
      "execution_count": 0,
      "outputs": []
    },
    {
      "cell_type": "code",
      "metadata": {
        "id": "ID5jGlFTOBVY",
        "colab_type": "code",
        "colab": {}
      },
      "source": [
        "tdf_uf_ro = tdf_uf_ro.resample(rule='30min').median()\n",
        "tdf_uf_ro.to_excel('UF처리수SDI_RO유입수SDI_new_{0}_{1}.xlsx'.format(name1, name2))"
      ],
      "execution_count": 0,
      "outputs": []
    },
    {
      "cell_type": "code",
      "metadata": {
        "id": "WNuA69PYOBVa",
        "colab_type": "code",
        "colab": {}
      },
      "source": [
        ""
      ],
      "execution_count": 0,
      "outputs": []
    }
  ]
}